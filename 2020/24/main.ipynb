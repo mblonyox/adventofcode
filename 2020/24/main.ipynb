{
 "metadata": {
  "language_info": {
   "codemirror_mode": {
    "name": "ipython",
    "version": 3
   },
   "file_extension": ".py",
   "mimetype": "text/x-python",
   "name": "python",
   "nbconvert_exporter": "python",
   "pygments_lexer": "ipython3",
   "version": "3.8.5-final"
  },
  "orig_nbformat": 2,
  "kernelspec": {
   "name": "python3",
   "display_name": "Python 3",
   "language": "python"
  }
 },
 "nbformat": 4,
 "nbformat_minor": 2,
 "cells": [
  {
   "cell_type": "code",
   "execution_count": 1,
   "metadata": {},
   "outputs": [],
   "source": [
    "my_input = None\n",
    "with open(\"input.txt\") as file:\n",
    "    my_input = file.read()"
   ]
  },
  {
   "cell_type": "code",
   "execution_count": 2,
   "metadata": {},
   "outputs": [],
   "source": [
    "import re\n",
    "\n",
    "path_re = re.compile(\"[n|s]?[e|w]\")\n",
    "\n",
    "def parse_path(path_str):\n",
    "    return path_re.findall(path_str)\n",
    "\n",
    "neighbours = {\n",
    "    \"ne\": (1, 1),\n",
    "    \"nw\": (-1, 1),\n",
    "    \"se\": (1, -1),\n",
    "    \"sw\": (-1, -1),\n",
    "    \"e\": (2, 0),\n",
    "    \"w\": (-2, 0)\n",
    "}\n",
    "\n",
    "def parse_tile(paths):\n",
    "    tiles = dict()\n",
    "    for path in paths:\n",
    "        x, y = 0, 0\n",
    "        for dx, dy in [ neighbours[direction] for direction in path]:\n",
    "            x, y = x + dx, y + dy\n",
    "        key = (x, y)\n",
    "        tiles[key] = not tiles.get(key, False)\n",
    "    return tiles"
   ]
  },
  {
   "cell_type": "code",
   "execution_count": 3,
   "metadata": {},
   "outputs": [
    {
     "output_type": "stream",
     "name": "stdout",
     "text": [
      "Wall time: 6 ms\n"
     ]
    },
    {
     "output_type": "execute_result",
     "data": {
      "text/plain": [
       "549"
      ]
     },
     "metadata": {},
     "execution_count": 3
    }
   ],
   "source": [
    "def part1(input_str):\n",
    "    paths = [ parse_path(path) for path in input_str.strip().split(\"\\n\")]\n",
    "    tiles = parse_tile(paths)\n",
    "    return sum(tiles.values())\n",
    "\n",
    "%time part1(my_input)"
   ]
  },
  {
   "cell_type": "code",
   "execution_count": 9,
   "metadata": {},
   "outputs": [
    {
     "output_type": "stream",
     "name": "stdout",
     "text": [
      "Wall time: 2.39 s\n"
     ]
    },
    {
     "output_type": "execute_result",
     "data": {
      "text/plain": [
       "4147"
      ]
     },
     "metadata": {},
     "execution_count": 9
    }
   ],
   "source": [
    "def part2(input_str):\n",
    "    paths = [ parse_path(path) for path in input_str.strip().split(\"\\n\")]\n",
    "    tiles = parse_tile(paths)\n",
    "    black_tiles = {tile for tile, is_black in tiles.items() if is_black}\n",
    "    def flip_black(tile):\n",
    "        x, y = tile\n",
    "        black_count = sum((x+dx, y+dy) in black_tiles for dx, dy in neighbours.values())\n",
    "        return black_count == 2 or (black_count == 1 and tile in black_tiles)\n",
    "    for _ in range(100):\n",
    "        should_check_tiles = {(x+dx, y+dy) for x, y in black_tiles for dx, dy in neighbours.values()}\n",
    "        black_tiles = {tile for tile in should_check_tiles if flip_black(tile)}\n",
    "    return len(black_tiles)\n",
    "\n",
    "%time part2(my_input)"
   ]
  }
 ]
}
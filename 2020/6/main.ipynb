{
 "metadata": {
  "language_info": {
   "codemirror_mode": {
    "name": "ipython",
    "version": 3
   },
   "file_extension": ".py",
   "mimetype": "text/x-python",
   "name": "python",
   "nbconvert_exporter": "python",
   "pygments_lexer": "ipython3",
   "version": "3.8.5-final"
  },
  "orig_nbformat": 2,
  "kernelspec": {
   "name": "python3",
   "display_name": "Python 3"
  }
 },
 "nbformat": 4,
 "nbformat_minor": 2,
 "cells": [
  {
   "source": [
    "# Day 6: Custom Customs\n",
    "---\n",
    "\n",
    "Soal ini lebih banyak membahas himpunan. Input dari soal langsung dapat dibuat per *group* dengan pemisah 2 *new line* / ```\\n```.\n",
    "Kemudian langsung aku bikin aja ```set``` dari nilai *string* masing-masing baris.\n"
   ],
   "cell_type": "markdown",
   "metadata": {}
  },
  {
   "cell_type": "code",
   "execution_count": 1,
   "metadata": {},
   "outputs": [
    {
     "output_type": "execute_result",
     "data": {
      "text/plain": [
       "[[{'a', 'c', 'd', 'j', 'l', 'm', 'p', 'q', 'u', 'v', 'y', 'z'},\n",
       "  {'a', 'c', 'd', 'j', 'l', 'm', 'p', 'q', 'u', 'v', 'y', 'z'},\n",
       "  {'a', 'c', 'd', 'j', 'l', 'm', 'p', 'q', 'u', 'v', 'y', 'z'},\n",
       "  {'a', 'c', 'd', 'j', 'l', 'm', 'p', 'q', 'u', 'v', 'y', 'z'},\n",
       "  {'a', 'c', 'd', 'j', 'l', 'm', 'p', 'q', 'u', 'v', 'y', 'z'}],\n",
       " [{'f', 'i', 'j', 'n', 'u', 'x'},\n",
       "  {'b', 'i', 'j', 'o', 't', 'u', 'x', 'y', 'z'},\n",
       "  {'h', 'i', 'j', 'k', 'l', 'm', 'p', 'q', 'r', 's', 'v', 'w', 'x'},\n",
       "  {'a', 'c', 'g', 'i', 'j', 'n', 'x'},\n",
       "  {'d', 'e', 'i', 'j', 'n', 'x'}]]"
      ]
     },
     "metadata": {},
     "execution_count": 1
    }
   ],
   "source": [
    "groups = []\n",
    "with open(\"input.txt\") as file:\n",
    "    groups = [[set(ans) for ans in group.strip().split(\"\\n\")] for group in file.read().split(\"\\n\\n\")]\n",
    "\n",
    "groups[-2:]"
   ]
  },
  {
   "source": [
    "---\n",
    "## Part 1\n",
    "Bagian pertama cukup menghitung gabungan himpunan *union* dari masing-masing kelompok / *group*. Python sudah menyediakan struktur data ```set``` dan sudah ada *method* ```set.union``` untuk mencari gabungan himpunan.\n",
    "\n",
    "> *TIL*: Kita bisa gunakan unpack operator ```*``` untuk menggunakan *iterable* sebagai argumen dalam fungsi yang dapat menerima jumlah argumen variatif.  "
   ],
   "cell_type": "markdown",
   "metadata": {}
  },
  {
   "cell_type": "code",
   "execution_count": 2,
   "metadata": {},
   "outputs": [
    {
     "output_type": "execute_result",
     "data": {
      "text/plain": [
       "6878"
      ]
     },
     "metadata": {},
     "execution_count": 2
    }
   ],
   "source": [
    "sum([len(set.union(*group)) for group in groups])"
   ]
  },
  {
   "source": [
    "---\n",
    "## Part 2\n",
    "Bagian kedua tinggal gunakan *method* ```set.intersection``` untuk mencari irisan himpunan dari masing-masing kelompok / group."
   ],
   "cell_type": "markdown",
   "metadata": {}
  },
  {
   "cell_type": "code",
   "execution_count": 3,
   "metadata": {},
   "outputs": [
    {
     "output_type": "execute_result",
     "data": {
      "text/plain": [
       "3464"
      ]
     },
     "metadata": {},
     "execution_count": 3
    }
   ],
   "source": [
    "sum([len(set.intersection(*group)) for group in groups])"
   ]
  }
 ]
}
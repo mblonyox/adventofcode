{
 "metadata": {
  "language_info": {
   "codemirror_mode": {
    "name": "ipython",
    "version": 3
   },
   "file_extension": ".py",
   "mimetype": "text/x-python",
   "name": "python",
   "nbconvert_exporter": "python",
   "pygments_lexer": "ipython3",
   "version": "3.8.1-final"
  },
  "orig_nbformat": 2,
  "kernelspec": {
   "name": "python3",
   "display_name": "Python 3",
   "language": "python"
  }
 },
 "nbformat": 4,
 "nbformat_minor": 2,
 "cells": [
  {
   "source": [
    "# Day 12: Rain Risk\n",
    "---\n",
    "Ketika sudah mulai pakai *manhattan distance* di sini ku mulai merasa lelah~"
   ],
   "cell_type": "markdown",
   "metadata": {}
  },
  {
   "cell_type": "code",
   "execution_count": 1,
   "metadata": {},
   "outputs": [
    {
     "output_type": "execute_result",
     "data": {
      "text/plain": [
       "['R90', 'F56', 'R90', 'F56', 'R90', 'R180', 'W5', 'L90', 'E2', 'L90']"
      ]
     },
     "metadata": {},
     "execution_count": 1
    }
   ],
   "source": [
    "inputs = None\n",
    "with open(\"input.txt\") as file:\n",
    "    inputs = [line.strip() for line in file]\n",
    "\n",
    "inputs[:10]"
   ]
  },
  {
   "source": [
    "---\n",
    "## Classes\n",
    "\n",
    "Aku buat abstraksi untuk menampung data titik koordinat dengan nama *class* ```Point```."
   ],
   "cell_type": "markdown",
   "metadata": {}
  },
  {
   "cell_type": "code",
   "execution_count": 2,
   "metadata": {},
   "outputs": [],
   "source": [
    "import math\n",
    "\n",
    "class Point:\n",
    "    north = (0, 1)\n",
    "    east = (1, 0)\n",
    "    south = (0, -1)\n",
    "    west = (-1, 0)\n",
    "\n",
    "    def __init__(self, x=0, y=0):\n",
    "        self.x = x\n",
    "        self.y = y\n",
    "\n",
    "    def __iter__(self):\n",
    "        yield self.x\n",
    "        yield self.y\n",
    "    \n",
    "    def manhattan_distance(self, origin=None):\n",
    "        origin = origin or Point(0, 0)\n",
    "        return abs(self.x - origin.x ) + abs(self.y - origin.y)\n",
    "\n",
    "    def move(self, direction, value):\n",
    "        dx, dy = direction\n",
    "        self.x += value * dx\n",
    "        self.y +=  value * dy\n",
    "    \n",
    "    def n(self, value):\n",
    "        self.move(self.north, value)\n",
    "    \n",
    "    def s(self, value):\n",
    "        self.move(self.south, value)\n",
    "    \n",
    "    def e(self, value):\n",
    "        self.move(self.east, value)\n",
    "    \n",
    "    def w(self, value):\n",
    "        self.move(self.west, value)\n",
    "    \n",
    "    def __rotate(self, value, origin=None):\n",
    "        origin = origin or Point(0, 0)\n",
    "        rad = math.radians(value)\n",
    "        sin = int(math.sin(rad))\n",
    "        cos = int(math.cos(rad))\n",
    "        dx = self.x - origin.x\n",
    "        dy = self.y - origin.y\n",
    "        self.x = origin.x + sin * dy + cos * dx\n",
    "        self.y = origin.y - sin * dx + cos * dy\n",
    "    \n",
    "    def l(self, value):\n",
    "        self.__rotate(-value)\n",
    "\n",
    "    def r(self, value):\n",
    "        self.__rotate(value)\n"
   ]
  },
  {
   "cell_type": "code",
   "execution_count": 3,
   "metadata": {},
   "outputs": [],
   "source": [
    "class Ship:\n",
    "    def __init__(self, instructions=[]):\n",
    "        self.instructions = instructions\n",
    "\n",
    "    def navigate(self):\n",
    "        position = Point(0, 0)\n",
    "        facing = Point(1, 0)\n",
    "        actions = {\n",
    "            \"N\": position.n,\n",
    "            \"S\": position.s,\n",
    "            \"E\": position.e,\n",
    "            \"W\": position.w,\n",
    "            \"L\": facing.l,\n",
    "            \"R\": facing.r,\n",
    "            \"F\": lambda v: position.move(facing, v)\n",
    "        }\n",
    "        for inst in self.instructions:\n",
    "            action = actions.get(inst[0])\n",
    "            value = int(inst[1:])\n",
    "            action(value)\n",
    "        return position\n",
    "\n",
    "    def navigate_waypoint(self):\n",
    "        position = Point(0, 0)\n",
    "        waypoint = Point(10, 1)\n",
    "        actions = {\n",
    "            \"N\": waypoint.n,\n",
    "            \"S\": waypoint.s,\n",
    "            \"E\": waypoint.e,\n",
    "            \"W\": waypoint.w,\n",
    "            \"L\": waypoint.l,\n",
    "            \"R\": waypoint.r,\n",
    "            \"F\": lambda v: position.move(waypoint, v)\n",
    "        }\n",
    "        for inst in self.instructions:\n",
    "            action = actions.get(inst[0])\n",
    "            value = int(inst[1:])\n",
    "            action(value)\n",
    "        return position\n",
    "    \n",
    "        "
   ]
  },
  {
   "source": [
    "---\n",
    "## Unit Testing"
   ],
   "cell_type": "markdown",
   "metadata": {}
  },
  {
   "cell_type": "code",
   "execution_count": 4,
   "metadata": {},
   "outputs": [
    {
     "output_type": "execute_result",
     "data": {
      "text/plain": [
       "True"
      ]
     },
     "metadata": {},
     "execution_count": 4
    }
   ],
   "source": [
    "test_ship = Ship([\"F10\",\"N3\",\"F7\",\"R90\",\"F11\"])\n",
    "\n",
    "# At the end of these instructions, the ship's Manhattan distance (sum of the absolute values of its east/west position \n",
    "# and its north/south position) from its starting position is 17 + 8 = 25.\n",
    "\n",
    "test_ship.navigate().manhattan_distance() == 25"
   ]
  },
  {
   "cell_type": "code",
   "execution_count": 5,
   "metadata": {},
   "outputs": [
    {
     "output_type": "execute_result",
     "data": {
      "text/plain": [
       "True"
      ]
     },
     "metadata": {},
     "execution_count": 5
    }
   ],
   "source": [
    "#After these operations, the ship's Manhattan distance from its starting position is 214 + 72 = 286.\n",
    "\n",
    "test_ship.navigate_waypoint().manhattan_distance() == 286"
   ]
  },
  {
   "source": [
    "---\n",
    "## Part 1\n",
    "\n",
    "Soal pertama sangat sederhana, tapi waktuku lebih banyak habis untuk membuat abstraksi struktur data ```Point``` dimana sering salah di bagian rotasi."
   ],
   "cell_type": "markdown",
   "metadata": {}
  },
  {
   "cell_type": "code",
   "execution_count": 6,
   "metadata": {},
   "outputs": [
    {
     "output_type": "execute_result",
     "data": {
      "text/plain": [
       "938"
      ]
     },
     "metadata": {},
     "execution_count": 6
    }
   ],
   "source": [
    "ship = Ship(inputs)\n",
    "\n",
    "ship.navigate().manhattan_distance()"
   ]
  },
  {
   "source": [
    "---\n",
    "## Part 2\n",
    "Ketika mengerjakan bagian kedua, aku juga terlalu lama memikirkan refaktor fungsi ```navigate``` agar bisa digunakan untuk bagian kedua juga."
   ],
   "cell_type": "markdown",
   "metadata": {}
  },
  {
   "cell_type": "code",
   "execution_count": 7,
   "metadata": {},
   "outputs": [
    {
     "output_type": "execute_result",
     "data": {
      "text/plain": [
       "54404"
      ]
     },
     "metadata": {},
     "execution_count": 7
    }
   ],
   "source": [
    "ship.navigate_waypoint().manhattan_distance()"
   ]
  }
 ]
}
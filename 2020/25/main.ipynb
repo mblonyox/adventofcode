{
 "metadata": {
  "language_info": {
   "codemirror_mode": {
    "name": "ipython",
    "version": 3
   },
   "file_extension": ".py",
   "mimetype": "text/x-python",
   "name": "python",
   "nbconvert_exporter": "python",
   "pygments_lexer": "ipython3",
   "version": "3.8.5-final"
  },
  "orig_nbformat": 2,
  "kernelspec": {
   "name": "python3",
   "display_name": "Python 3",
   "language": "python"
  }
 },
 "nbformat": 4,
 "nbformat_minor": 2,
 "cells": [
  {
   "cell_type": "code",
   "execution_count": 1,
   "metadata": {},
   "outputs": [],
   "source": [
    "my_input = None\n",
    "with open(\"input.txt\") as file:\n",
    "    my_input = file.read()"
   ]
  },
  {
   "cell_type": "code",
   "execution_count": 8,
   "metadata": {},
   "outputs": [
    {
     "output_type": "stream",
     "name": "stdout",
     "text": [
      "Wall time: 4.57 s\n"
     ]
    },
    {
     "output_type": "execute_result",
     "data": {
      "text/plain": [
       "1478097"
      ]
     },
     "metadata": {},
     "execution_count": 8
    }
   ],
   "source": [
    "def transform(subject, loop_size):\n",
    "    return pow(subject, loop_size, 20201227)\n",
    "\n",
    "def get_private_key(public_key):\n",
    "    loop_size = 0\n",
    "    value = 1\n",
    "    while value != public_key:\n",
    "        value = (value * 7) % 20201227\n",
    "        loop_size += 1\n",
    "    return loop_size\n",
    "\n",
    "def part1(input_str):      \n",
    "    public_keys = [int(line) for line in input_str.strip().split(\"\\n\")]\n",
    "    private_keys = [get_private_key(key) for key in public_keys]\n",
    "    return transform(public_keys[1], private_keys[0])\n",
    "\n",
    "%time part1(my_input)"
   ]
  }
 ]
}
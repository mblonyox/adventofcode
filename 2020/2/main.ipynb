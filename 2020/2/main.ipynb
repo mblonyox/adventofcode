{
 "metadata": {
  "language_info": {
   "codemirror_mode": {
    "name": "ipython",
    "version": 3
   },
   "file_extension": ".py",
   "mimetype": "text/x-python",
   "name": "python",
   "nbconvert_exporter": "python",
   "pygments_lexer": "ipython3",
   "version": "3.8.1-final"
  },
  "orig_nbformat": 2,
  "kernelspec": {
   "name": "python3",
   "display_name": "Python 3"
  }
 },
 "nbformat": 4,
 "nbformat_minor": 2,
 "cells": [
  {
   "cell_type": "code",
   "execution_count": 1,
   "metadata": {},
   "outputs": [
    {
     "output_type": "execute_result",
     "data": {
      "text/plain": [
       "     min  max char            password\n",
       "0      2    4    r             prrmspx\n",
       "1      5    6    p           hpzplphxb\n",
       "2      5    8    t         ttttbtttttc\n",
       "3      1    6    k              kkkkkk\n",
       "4      1    3    q                qqqq\n",
       "..   ...  ...  ...                 ...\n",
       "995    1   14    h     hhhhhhhhhhhhhhh\n",
       "996    9   10    w          swwwwwwwjq\n",
       "997    1   13    j  xjwjjljjjjdjjjjmjj\n",
       "998   11   13    m  smmhmmcmmmkmdmmmmm\n",
       "999   15   17    p   ppppppppppppppsps\n",
       "\n",
       "[1000 rows x 4 columns]"
      ],
      "text/html": "<div>\n<style scoped>\n    .dataframe tbody tr th:only-of-type {\n        vertical-align: middle;\n    }\n\n    .dataframe tbody tr th {\n        vertical-align: top;\n    }\n\n    .dataframe thead th {\n        text-align: right;\n    }\n</style>\n<table border=\"1\" class=\"dataframe\">\n  <thead>\n    <tr style=\"text-align: right;\">\n      <th></th>\n      <th>min</th>\n      <th>max</th>\n      <th>char</th>\n      <th>password</th>\n    </tr>\n  </thead>\n  <tbody>\n    <tr>\n      <th>0</th>\n      <td>2</td>\n      <td>4</td>\n      <td>r</td>\n      <td>prrmspx</td>\n    </tr>\n    <tr>\n      <th>1</th>\n      <td>5</td>\n      <td>6</td>\n      <td>p</td>\n      <td>hpzplphxb</td>\n    </tr>\n    <tr>\n      <th>2</th>\n      <td>5</td>\n      <td>8</td>\n      <td>t</td>\n      <td>ttttbtttttc</td>\n    </tr>\n    <tr>\n      <th>3</th>\n      <td>1</td>\n      <td>6</td>\n      <td>k</td>\n      <td>kkkkkk</td>\n    </tr>\n    <tr>\n      <th>4</th>\n      <td>1</td>\n      <td>3</td>\n      <td>q</td>\n      <td>qqqq</td>\n    </tr>\n    <tr>\n      <th>...</th>\n      <td>...</td>\n      <td>...</td>\n      <td>...</td>\n      <td>...</td>\n    </tr>\n    <tr>\n      <th>995</th>\n      <td>1</td>\n      <td>14</td>\n      <td>h</td>\n      <td>hhhhhhhhhhhhhhh</td>\n    </tr>\n    <tr>\n      <th>996</th>\n      <td>9</td>\n      <td>10</td>\n      <td>w</td>\n      <td>swwwwwwwjq</td>\n    </tr>\n    <tr>\n      <th>997</th>\n      <td>1</td>\n      <td>13</td>\n      <td>j</td>\n      <td>xjwjjljjjjdjjjjmjj</td>\n    </tr>\n    <tr>\n      <th>998</th>\n      <td>11</td>\n      <td>13</td>\n      <td>m</td>\n      <td>smmhmmcmmmkmdmmmmm</td>\n    </tr>\n    <tr>\n      <th>999</th>\n      <td>15</td>\n      <td>17</td>\n      <td>p</td>\n      <td>ppppppppppppppsps</td>\n    </tr>\n  </tbody>\n</table>\n<p>1000 rows × 4 columns</p>\n</div>"
     },
     "metadata": {},
     "execution_count": 1
    }
   ],
   "source": [
    "import pandas as pd\n",
    "\n",
    "df = pd.read_csv(\"input.txt\", sep=\"-|:\\s|\\s\", names=[\"min\", \"max\", \"char\", \"password\"])\n",
    "df"
   ]
  },
  {
   "source": [
    "---\n",
    "### Part 1:\n",
    "Cukup dengan *lambda function* sederhana. Nilai pengecekan valid disimpan di column ```valid1```."
   ],
   "cell_type": "markdown",
   "metadata": {}
  },
  {
   "cell_type": "code",
   "execution_count": 2,
   "metadata": {},
   "outputs": [
    {
     "output_type": "stream",
     "name": "stdout",
     "text": [
      "Part 1 :  467\n"
     ]
    }
   ],
   "source": [
    "df[\"valid1\"] = df.apply(lambda x: x[\"min\"] <= x[\"password\"].count(x[\"char\"]) <= x[\"max\"], axis=1)\n",
    "print(\"Part 1 : \", len(df[df[\"valid1\"]].index))"
   ]
  },
  {
   "source": [
    "---\n",
    "### Part 2:\n",
    "Sempat salah karena kukira harus ada di kedua posisi. Jadi cukup cek kedua posisi dan bandingkan dengan ```!=```. "
   ],
   "cell_type": "markdown",
   "metadata": {}
  },
  {
   "cell_type": "code",
   "execution_count": 3,
   "metadata": {},
   "outputs": [
    {
     "output_type": "stream",
     "name": "stdout",
     "text": [
      "Part 2 :  441\n"
     ]
    }
   ],
   "source": [
    "df[\"valid2\"] = df.apply(lambda x: (x[\"password\"][x[\"min\"]-1] == x[\"char\"]) != (x[\"password\"][x[\"max\"]-1] == x[\"char\"]), axis=1)\n",
    "print(\"Part 2 : \", len(df[df[\"valid2\"]].index))"
   ]
  },
  {
   "source": [
    "---\n",
    "DataFrame dengan masing-masing validitas *password* di kolom ```valid1``` dan ```valid2```."
   ],
   "cell_type": "markdown",
   "metadata": {}
  },
  {
   "cell_type": "code",
   "execution_count": 4,
   "metadata": {},
   "outputs": [
    {
     "output_type": "execute_result",
     "data": {
      "text/plain": [
       "     min  max char            password  valid1  valid2\n",
       "0      2    4    r             prrmspx    True    True\n",
       "1      5    6    p           hpzplphxb   False    True\n",
       "2      5    8    t         ttttbtttttc   False    True\n",
       "3      1    6    k              kkkkkk    True   False\n",
       "4      1    3    q                qqqq   False   False\n",
       "..   ...  ...  ...                 ...     ...     ...\n",
       "995    1   14    h     hhhhhhhhhhhhhhh   False   False\n",
       "996    9   10    w          swwwwwwwjq   False   False\n",
       "997    1   13    j  xjwjjljjjjdjjjjmjj    True    True\n",
       "998   11   13    m  smmhmmcmmmkmdmmmmm    True   False\n",
       "999   15   17    p   ppppppppppppppsps    True   False\n",
       "\n",
       "[1000 rows x 6 columns]"
      ],
      "text/html": "<div>\n<style scoped>\n    .dataframe tbody tr th:only-of-type {\n        vertical-align: middle;\n    }\n\n    .dataframe tbody tr th {\n        vertical-align: top;\n    }\n\n    .dataframe thead th {\n        text-align: right;\n    }\n</style>\n<table border=\"1\" class=\"dataframe\">\n  <thead>\n    <tr style=\"text-align: right;\">\n      <th></th>\n      <th>min</th>\n      <th>max</th>\n      <th>char</th>\n      <th>password</th>\n      <th>valid1</th>\n      <th>valid2</th>\n    </tr>\n  </thead>\n  <tbody>\n    <tr>\n      <th>0</th>\n      <td>2</td>\n      <td>4</td>\n      <td>r</td>\n      <td>prrmspx</td>\n      <td>True</td>\n      <td>True</td>\n    </tr>\n    <tr>\n      <th>1</th>\n      <td>5</td>\n      <td>6</td>\n      <td>p</td>\n      <td>hpzplphxb</td>\n      <td>False</td>\n      <td>True</td>\n    </tr>\n    <tr>\n      <th>2</th>\n      <td>5</td>\n      <td>8</td>\n      <td>t</td>\n      <td>ttttbtttttc</td>\n      <td>False</td>\n      <td>True</td>\n    </tr>\n    <tr>\n      <th>3</th>\n      <td>1</td>\n      <td>6</td>\n      <td>k</td>\n      <td>kkkkkk</td>\n      <td>True</td>\n      <td>False</td>\n    </tr>\n    <tr>\n      <th>4</th>\n      <td>1</td>\n      <td>3</td>\n      <td>q</td>\n      <td>qqqq</td>\n      <td>False</td>\n      <td>False</td>\n    </tr>\n    <tr>\n      <th>...</th>\n      <td>...</td>\n      <td>...</td>\n      <td>...</td>\n      <td>...</td>\n      <td>...</td>\n      <td>...</td>\n    </tr>\n    <tr>\n      <th>995</th>\n      <td>1</td>\n      <td>14</td>\n      <td>h</td>\n      <td>hhhhhhhhhhhhhhh</td>\n      <td>False</td>\n      <td>False</td>\n    </tr>\n    <tr>\n      <th>996</th>\n      <td>9</td>\n      <td>10</td>\n      <td>w</td>\n      <td>swwwwwwwjq</td>\n      <td>False</td>\n      <td>False</td>\n    </tr>\n    <tr>\n      <th>997</th>\n      <td>1</td>\n      <td>13</td>\n      <td>j</td>\n      <td>xjwjjljjjjdjjjjmjj</td>\n      <td>True</td>\n      <td>True</td>\n    </tr>\n    <tr>\n      <th>998</th>\n      <td>11</td>\n      <td>13</td>\n      <td>m</td>\n      <td>smmhmmcmmmkmdmmmmm</td>\n      <td>True</td>\n      <td>False</td>\n    </tr>\n    <tr>\n      <th>999</th>\n      <td>15</td>\n      <td>17</td>\n      <td>p</td>\n      <td>ppppppppppppppsps</td>\n      <td>True</td>\n      <td>False</td>\n    </tr>\n  </tbody>\n</table>\n<p>1000 rows × 6 columns</p>\n</div>"
     },
     "metadata": {},
     "execution_count": 4
    }
   ],
   "source": [
    "df"
   ]
  }
 ]
}
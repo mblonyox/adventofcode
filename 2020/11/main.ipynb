{
 "metadata": {
  "language_info": {
   "codemirror_mode": {
    "name": "ipython",
    "version": 3
   },
   "file_extension": ".py",
   "mimetype": "text/x-python",
   "name": "python",
   "nbconvert_exporter": "python",
   "pygments_lexer": "ipython3",
   "version": "3.8.5-final"
  },
  "orig_nbformat": 2,
  "kernelspec": {
   "name": "python3",
   "display_name": "Python 3",
   "language": "python"
  }
 },
 "nbformat": 4,
 "nbformat_minor": 2,
 "cells": [
  {
   "source": [
    "# Day 11: Seating System\n",
    "---\n",
    "Soalnya capek karena di bagian kedua harus refaktor kembali fungsi yang dipakai di bagian sebelumnya."
   ],
   "cell_type": "markdown",
   "metadata": {}
  },
  {
   "cell_type": "code",
   "execution_count": 1,
   "metadata": {},
   "outputs": [
    {
     "output_type": "execute_result",
     "data": {
      "text/plain": [
       "'LLL.LLL.LLLLL.LLLLLLLLLLLLLLLL'"
      ]
     },
     "metadata": {},
     "execution_count": 1
    }
   ],
   "source": [
    "inputs = None\n",
    "with open(\"input.txt\") as file:\n",
    "    inputs = file.read().strip()\n",
    "\n",
    "inputs[:30]"
   ]
  },
  {
   "source": [
    "---\n",
    "## Classes\n",
    "\n",
    "Di sini aku buat 2 *class*, yang pertama *class* ```Grid``` untuk membungkus struktur data *grid* atau *array* 2 dimensi, dan kedua baru *class* untuk menjalankan siklus perubahan kondisinya.\n",
    "\n",
    "*Class* ```Grid``` nantinya dapat digunakan lagi untuk soal yang menggunakan struktur data 2 dimensi dengan cara diekspor ke file ```.py```"
   ],
   "cell_type": "markdown",
   "metadata": {}
  },
  {
   "cell_type": "code",
   "execution_count": 2,
   "metadata": {},
   "outputs": [],
   "source": [
    "class Grid:\n",
    "    adjacents = [(-1, -1), (-1, 0), (-1, 1), (0, -1), (0, 1), (1, -1), (1, 0), (1, 1)]\n",
    "\n",
    "    def __init__(self, grid = [[]]):\n",
    "        self.grid = grid\n",
    "        self.max_row = len(grid)\n",
    "        self.max_col = len(grid[0])\n",
    "    \n",
    "    def get(self, row, col):\n",
    "        if 0 <= row < self.max_row and 0 <= col < self.max_col:\n",
    "            return self.grid[row][col]\n",
    "        return None\n",
    "    \n",
    "    def set(self, row, col, value):\n",
    "        if 0 <= row < self.max_row and 0 <= col < self.max_col:\n",
    "            self.grid[row][col] = value\n",
    "            return True\n",
    "        return False\n",
    "    \n",
    "    def get_adjacents_cells(self, row, col):\n",
    "        return self.get_8_directions(row, col)\n",
    "    \n",
    "    def get_8_directions(self, row, col, ignore_func=lambda x: False):\n",
    "        result = []\n",
    "        for dy, dx in self.adjacents:\n",
    "            sx = sy = 0\n",
    "            while True:\n",
    "                sx += dx\n",
    "                sy += dy\n",
    "                subresult = self.get(row+sy, col+sx)\n",
    "                if subresult == None or not ignore_func(subresult):\n",
    "                    result.append(subresult)\n",
    "                    break\n",
    "        return result\n",
    "\n",
    "    def enumerate(self):\n",
    "        return [\n",
    "            (row, col, self.get(row,col))\n",
    "            for row in range(self.max_row) for col in range(self.max_col)\n",
    "        ]\n",
    "\n",
    "    def __str__(self):\n",
    "        return \"\\n\".join(\"\".join(*zip(*row)) for row in self.grid)\n",
    "\n",
    "    def __repr__(self):\n",
    "        return str(self)\n",
    "\n",
    "    def __eq__(self, other):\n",
    "        return (\n",
    "            self.__class__ == other.__class__ and\n",
    "            str(self) == str(other)\n",
    "        )\n"
   ]
  },
  {
   "cell_type": "code",
   "execution_count": 3,
   "metadata": {},
   "outputs": [],
   "source": [
    "import copy\n",
    "\n",
    "class SeatCycle:\n",
    "    def __init__(self, inputs):\n",
    "        self.initial_grid = Grid([[ch for ch in row] for row in inputs.strip().split(\"\\n\")])\n",
    "\n",
    "    def next_cycle1(self, previous = None):\n",
    "        previous = self.initial_grid if previous == None else previous\n",
    "        result = copy.deepcopy(previous)\n",
    "        for row, col, value in previous.enumerate():\n",
    "            if value == \"L\":\n",
    "                if previous.get_adjacents_cells(row, col).count(\"#\") == 0:\n",
    "                    result.set(row, col, \"#\")\n",
    "            elif value == \"#\":\n",
    "                if previous.get_adjacents_cells(row, col).count(\"#\") >= 4:\n",
    "                    result.set(row, col, \"L\")\n",
    "        return result\n",
    "    \n",
    "    def next_cycle2(self, previous = None):\n",
    "        previous = self.initial_grid if previous == None else previous\n",
    "        result = copy.deepcopy(previous)\n",
    "        for row, col, value in previous.enumerate():\n",
    "            if value == \"L\":\n",
    "                if previous.get_8_directions(row, col, lambda x: x == \".\").count(\"#\") == 0:\n",
    "                    result.set(row, col, \"#\")\n",
    "            elif value == \"#\":\n",
    "                if previous.get_8_directions(row, col, lambda x: x == \".\").count(\"#\") >= 5:\n",
    "                    result.set(row, col, \"L\")\n",
    "        return result\n",
    "    \n",
    "    def get_stable_state1(self):\n",
    "        prev_state = None\n",
    "        while True:\n",
    "            next_state = self.next_cycle1(prev_state)\n",
    "            if (next_state == prev_state):\n",
    "                break\n",
    "            prev_state = next_state\n",
    "        return prev_state\n",
    "    \n",
    "    def get_stable_state2(self):\n",
    "        prev_state = None\n",
    "        while True:\n",
    "            next_state = self.next_cycle2(prev_state)\n",
    "            if (next_state == prev_state):\n",
    "                break\n",
    "            prev_state = next_state\n",
    "        return prev_state"
   ]
  },
  {
   "source": [
    "---\n",
    "## Unit Testing\n",
    "\n",
    "Karena contoh soalnya panjang banget, unit testingnya juga jadi panjang."
   ],
   "cell_type": "markdown",
   "metadata": {}
  },
  {
   "cell_type": "code",
   "execution_count": 4,
   "metadata": {},
   "outputs": [],
   "source": [
    "test_sc = SeatCycle(\n",
    "\"\"\"\n",
    "L.LL.LL.LL\n",
    "LLLLLLL.LL\n",
    "L.L.L..L..\n",
    "LLLL.LL.LL\n",
    "L.LL.LL.LL\n",
    "L.LLLLL.LL\n",
    "..L.L.....\n",
    "LLLLLLLLLL\n",
    "L.LLLLLL.L\n",
    "L.LLLLL.LL\n",
    "\"\"\"\n",
    ")"
   ]
  },
  {
   "cell_type": "code",
   "execution_count": 5,
   "metadata": {},
   "outputs": [
    {
     "output_type": "execute_result",
     "data": {
      "text/plain": [
       "#.##.##.##\n",
       "#######.##\n",
       "#.#.#..#..\n",
       "####.##.##\n",
       "#.##.##.##\n",
       "#.#####.##\n",
       "..#.#.....\n",
       "##########\n",
       "#.######.#\n",
       "#.#####.##"
      ]
     },
     "metadata": {},
     "execution_count": 5
    }
   ],
   "source": [
    "# After one round of these rules, every seat in the example layout becomes occupied:\n",
    "\n",
    "grid_1 = test_sc.next_cycle1()\n",
    "grid_1"
   ]
  },
  {
   "cell_type": "code",
   "execution_count": 6,
   "metadata": {},
   "outputs": [
    {
     "output_type": "execute_result",
     "data": {
      "text/plain": [
       "#.LL.L#.##\n",
       "#LLLLLL.L#\n",
       "L.L.L..L..\n",
       "#LLL.LL.L#\n",
       "#.LL.LL.LL\n",
       "#.LLLL#.##\n",
       "..L.L.....\n",
       "#LLLLLLLL#\n",
       "#.LLLLLL.L\n",
       "#.#LLLL.##"
      ]
     },
     "metadata": {},
     "execution_count": 6
    }
   ],
   "source": [
    "# After a second round, the seats with four or more occupied adjacent seats become empty again:\n",
    "\n",
    "grid_2 = test_sc.next_cycle1(grid_1)\n",
    "grid_2"
   ]
  },
  {
   "cell_type": "code",
   "execution_count": 7,
   "metadata": {},
   "outputs": [
    {
     "output_type": "execute_result",
     "data": {
      "text/plain": [
       "True"
      ]
     },
     "metadata": {},
     "execution_count": 7
    }
   ],
   "source": [
    "# At this point, something interesting happens: the chaos stabilizes and further applications of these rules cause no seats to change state!\n",
    "# Once people stop moving around, you count 37 occupied seats.\n",
    "\n",
    "str(test_sc.get_stable_state1()).count(\"#\") == 37"
   ]
  },
  {
   "cell_type": "code",
   "execution_count": 8,
   "metadata": {},
   "outputs": [
    {
     "output_type": "execute_result",
     "data": {
      "text/plain": [
       "True"
      ]
     },
     "metadata": {},
     "execution_count": 8
    }
   ],
   "source": [
    "# For example, the empty seat below would see eight occupied seats:\n",
    "\n",
    "test_sc2 = SeatCycle(\n",
    "\"\"\"\n",
    ".......#.\n",
    "...#.....\n",
    ".#.......\n",
    ".........\n",
    "..#L....#\n",
    "....#....\n",
    ".........\n",
    "#........\n",
    "...#.....\n",
    "\"\"\"\n",
    ")\n",
    "\n",
    "str(test_sc2.initial_grid.get_8_directions(4, 3, lambda x: x == \".\")).count(\"#\") == 8"
   ]
  },
  {
   "cell_type": "code",
   "execution_count": 9,
   "metadata": {},
   "outputs": [
    {
     "output_type": "execute_result",
     "data": {
      "text/plain": [
       "True"
      ]
     },
     "metadata": {},
     "execution_count": 9
    }
   ],
   "source": [
    "# The leftmost empty seat below would only see one empty seat, but cannot see any of the occupied ones:\n",
    "\n",
    "test_sc3 = SeatCycle(\n",
    "\"\"\"\n",
    ".............\n",
    ".L.L.#.#.#.#.\n",
    ".............\n",
    "\"\"\"\n",
    ")\n",
    "\n",
    "sight = test_sc3.initial_grid.get_8_directions(1, 1, lambda x: x == \".\")\n",
    "str(sight).count(\"L\") == 1 and str(sight).count(\"#\") == 0"
   ]
  },
  {
   "cell_type": "code",
   "execution_count": 10,
   "metadata": {},
   "outputs": [
    {
     "output_type": "execute_result",
     "data": {
      "text/plain": [
       "True"
      ]
     },
     "metadata": {},
     "execution_count": 10
    }
   ],
   "source": [
    "# The empty seat below would see no occupied seats:\n",
    "\n",
    "test_sc4 = SeatCycle(\n",
    "\"\"\"\n",
    ".##.##.\n",
    "#.#.#.#\n",
    "##...##\n",
    "...L...\n",
    "##...##\n",
    "#.#.#.#\n",
    ".##.##.\n",
    "\"\"\"\n",
    ")\n",
    "\n",
    "str(test_sc4.initial_grid.get_8_directions(3, 3, lambda x: x == \".\")).count(\"#\") == 0"
   ]
  },
  {
   "cell_type": "code",
   "execution_count": 11,
   "metadata": {},
   "outputs": [
    {
     "output_type": "execute_result",
     "data": {
      "text/plain": [
       "True"
      ]
     },
     "metadata": {},
     "execution_count": 11
    }
   ],
   "source": [
    "\n",
    "test_sc5 = SeatCycle(\n",
    "\"\"\"\n",
    "L.LL.LL.LL\n",
    "LLLLLLL.LL\n",
    "L.L.L..L..\n",
    "LLLL.LL.LL\n",
    "L.LL.LL.LL\n",
    "L.LLLLL.LL\n",
    "..L.L.....\n",
    "LLLLLLLLLL\n",
    "L.LLLLLL.L\n",
    "L.LLLLL.LL\n",
    "\"\"\"\n",
    ")\n",
    "\n",
    "str(test_sc5.get_stable_state2()).count(\"#\") == 26"
   ]
  },
  {
   "source": [
    "---\n",
    "## Part 1\n",
    "Bagian pertama cukup gunakan ```while``` untuk mencari *state* yang sama setelah ```next_cycle``` dijalankan."
   ],
   "cell_type": "markdown",
   "metadata": {}
  },
  {
   "cell_type": "code",
   "execution_count": 12,
   "metadata": {},
   "outputs": [
    {
     "output_type": "stream",
     "name": "stdout",
     "text": [
      "Wall time: 6.77 s\n"
     ]
    },
    {
     "output_type": "execute_result",
     "data": {
      "text/plain": [
       "2265"
      ]
     },
     "metadata": {},
     "execution_count": 12
    }
   ],
   "source": [
    "sc = SeatCycle(inputs)\n",
    "\n",
    "%time str(sc.get_stable_state1()).count(\"#\")"
   ]
  },
  {
   "source": [
    "---\n",
    "## Part 2\n",
    "Bagian kedua hanya merubah kriterianya dengan mengganti ```ignore_func``` yang disediakan. Aku jadikan 2 *method* berbeda saja daripada harus *passing parameter* ke fungsinya."
   ],
   "cell_type": "markdown",
   "metadata": {}
  },
  {
   "cell_type": "code",
   "execution_count": 13,
   "metadata": {},
   "outputs": [
    {
     "output_type": "stream",
     "name": "stdout",
     "text": [
      "Wall time: 8.21 s\n"
     ]
    },
    {
     "output_type": "execute_result",
     "data": {
      "text/plain": [
       "2045"
      ]
     },
     "metadata": {},
     "execution_count": 13
    }
   ],
   "source": [
    "%time str(sc.get_stable_state2()).count(\"#\")"
   ]
  }
 ]
}
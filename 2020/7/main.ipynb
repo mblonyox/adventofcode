{
 "metadata": {
  "language_info": {
   "codemirror_mode": {
    "name": "ipython",
    "version": 3
   },
   "file_extension": ".py",
   "mimetype": "text/x-python",
   "name": "python",
   "nbconvert_exporter": "python",
   "pygments_lexer": "ipython3",
   "version": "3.9.0-final"
  },
  "orig_nbformat": 2,
  "kernelspec": {
   "name": "python3",
   "display_name": "Python 3.9.0 64-bit",
   "metadata": {
    "interpreter": {
     "hash": "63fd5069d213b44bf678585dea6b12cceca9941eaf7f819626cde1f2670de90d"
    }
   }
  }
 },
 "nbformat": 4,
 "nbformat_minor": 2,
 "cells": [
  {
   "source": [
    "# Day 7: Handy Haversacks\n",
    "---\n",
    "Soal ini sudah mulai menggunakan *recursion*. Perlu berhati-hati dalam membuat fungsi yang akan memanggil fungsi itu sendiri di dalamnya."
   ],
   "cell_type": "markdown",
   "metadata": {}
  },
  {
   "cell_type": "code",
   "execution_count": 1,
   "metadata": {},
   "outputs": [
    {
     "output_type": "execute_result",
     "data": {
      "text/plain": [
       "['light chartreuse bags contain 1 mirrored yellow bag, 2 vibrant violet bags.',\n",
       " 'dotted silver bags contain 2 dotted orange bags, 3 bright fuchsia bags, 5 bright tomato bags, 3 faded turquoise bags.',\n",
       " 'plaid indigo bags contain 1 pale violet bag, 4 mirrored violet bags.',\n",
       " 'faded turquoise bags contain 5 faded lavender bags.',\n",
       " 'striped yellow bags contain 5 vibrant black bags, 1 mirrored gold bag.']"
      ]
     },
     "metadata": {},
     "execution_count": 1
    }
   ],
   "source": [
    "inputs = []\n",
    "with open(\"input.txt\") as file:\n",
    "    inputs = [line.strip() for line in file]\n",
    "\n",
    "inputs[:5]"
   ]
  },
  {
   "source": [
    "Bagian yang cukup sulit buatku adalah menerjemahkan input ke dalam struktur data untuk tabel pencariannya. Aku gunakan ```regex``` dan menyimpannya dalam *dictionary* bertingkat."
   ],
   "cell_type": "markdown",
   "metadata": {}
  },
  {
   "cell_type": "code",
   "execution_count": 2,
   "metadata": {},
   "outputs": [
    {
     "output_type": "execute_result",
     "data": {
      "text/plain": [
       "[('light chartreuse', {'mirrored yellow': 1, 'vibrant violet': 2}),\n",
       " ('dotted silver',\n",
       "  {'dotted orange': 2,\n",
       "   'bright fuchsia': 3,\n",
       "   'bright tomato': 5,\n",
       "   'faded turquoise': 3})]"
      ]
     },
     "metadata": {},
     "execution_count": 2
    }
   ],
   "source": [
    "import re\n",
    "\n",
    "keyRe = re.compile(r\"^([a-z ]+?) bag\")\n",
    "valueRe = re.compile(r\"([0-9]+) ([a-z ]+?) bag\")\n",
    "\n",
    "def getKey(string):\n",
    "    return keyRe.search(string)[1]\n",
    "\n",
    "def getVal(string):\n",
    "    return {bag: int(n) for n, bag in valueRe.findall(string)}\n",
    "\n",
    "bagsTable = {getKey(line): getVal(line) for line in inputs }\n",
    "\n",
    "list(bagsTable.items())[:2]"
   ]
  },
  {
   "source": [
    "Selain itu aku juga membuat tabel untuk melakukan *lookup* ke *upper bag* agar tidak perlu *loop* berkali-kali."
   ],
   "cell_type": "markdown",
   "metadata": {}
  },
  {
   "cell_type": "code",
   "execution_count": 3,
   "metadata": {},
   "outputs": [
    {
     "output_type": "execute_result",
     "data": {
      "text/plain": [
       "[('mirrored yellow', ['light chartreuse']),\n",
       " ('vibrant violet',\n",
       "  ['light chartreuse',\n",
       "   'vibrant purple',\n",
       "   'dim green',\n",
       "   'wavy fuchsia',\n",
       "   'light brown',\n",
       "   'shiny black',\n",
       "   'posh gold'])]"
      ]
     },
     "metadata": {},
     "execution_count": 3
    }
   ],
   "source": [
    "reversedTable = {}\n",
    "\n",
    "for key in bagsTable:\n",
    "    for bag in bagsTable[key]:\n",
    "        if not bag in reversedTable:\n",
    "            reversedTable[bag] = [key]\n",
    "        else:\n",
    "            reversedTable[bag].append(key)\n",
    "\n",
    "list(reversedTable.items())[:2]"
   ]
  },
  {
   "source": [
    "---\n",
    "## Part 1\n",
    "Bagian pertama menggunakan tabel yang sudah dibalik sehingga pencarian / *lookup* lebih mudah.\n",
    "Jangan lupa, karena *bag* mungkin berulang, gunakan set untuk menyaring nama *bag* yang unik saja."
   ],
   "cell_type": "markdown",
   "metadata": {}
  },
  {
   "cell_type": "code",
   "execution_count": 4,
   "metadata": {},
   "outputs": [
    {
     "output_type": "execute_result",
     "data": {
      "text/plain": [
       "252"
      ]
     },
     "metadata": {},
     "execution_count": 4
    }
   ],
   "source": [
    "def getUpperBags(bag):\n",
    "    result = []\n",
    "    if bag in reversedTable:\n",
    "        for upperBag in reversedTable[bag]:\n",
    "            result.append(upperBag)\n",
    "            result += getUpperBags(upperBag)\n",
    "    return result\n",
    "\n",
    "len(set(getUpperBags(\"shiny gold\")))"
   ]
  },
  {
   "source": [
    "---\n",
    "## Part 2\n",
    "Bagian kedua juga masih menggunakan rekursi. Jangan lupa mengalikan jumlah *bag* pada masing-masing perulangan / *loop* isi *bag*."
   ],
   "cell_type": "markdown",
   "metadata": {}
  },
  {
   "cell_type": "code",
   "execution_count": 5,
   "metadata": {},
   "outputs": [
    {
     "output_type": "execute_result",
     "data": {
      "text/plain": [
       "35487"
      ]
     },
     "metadata": {},
     "execution_count": 5
    }
   ],
   "source": [
    "def getInsideBags(bag):\n",
    "    result = 0\n",
    "    if bag in bagsTable:\n",
    "        for insideBag, n in bagsTable[bag].items():\n",
    "            result += n\n",
    "            result += n * getInsideBags(insideBag)\n",
    "    return result\n",
    "\n",
    "getInsideBags(\"shiny gold\")"
   ]
  }
 ]
}
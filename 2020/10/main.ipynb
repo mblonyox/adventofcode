{
 "metadata": {
  "language_info": {
   "codemirror_mode": {
    "name": "ipython",
    "version": 3
   },
   "file_extension": ".py",
   "mimetype": "text/x-python",
   "name": "python",
   "nbconvert_exporter": "python",
   "pygments_lexer": "ipython3",
   "version": "3.8.5-final"
  },
  "orig_nbformat": 2,
  "kernelspec": {
   "name": "python3",
   "display_name": "Python 3",
   "language": "python"
  }
 },
 "nbformat": 4,
 "nbformat_minor": 2,
 "cells": [
  {
   "source": [
    "# Day 10: Adapter Array\n",
    "---\n",
    "Wuaaah... operasinya udah ```O(n ^ 2)```, harus mempertimbangkan optimalisasi algoritmanya."
   ],
   "cell_type": "markdown",
   "metadata": {}
  },
  {
   "cell_type": "code",
   "execution_count": 1,
   "metadata": {},
   "outputs": [
    {
     "output_type": "execute_result",
     "data": {
      "text/plain": [
       "[30, 73, 84, 136, 132, 117, 65, 161, 49, 68]"
      ]
     },
     "metadata": {},
     "execution_count": 1
    }
   ],
   "source": [
    "adapters = []\n",
    "with open(\"input.txt\") as file:\n",
    "    adapters = [int(line) for line in file]\n",
    "\n",
    "adapters[:10]"
   ]
  },
  {
   "source": [
    "> Demi menjadi programmer yang disiplin, kodenya aku buat dalam satu class saja."
   ],
   "cell_type": "markdown",
   "metadata": {}
  },
  {
   "cell_type": "code",
   "execution_count": 2,
   "metadata": {},
   "outputs": [],
   "source": [
    "import numpy as np\n",
    "\n",
    "class ChargingAdapters:\n",
    "    charging_outlet = 0\n",
    "    def __init__(self, adapters):\n",
    "        self.adapters = sorted(adapters)\n",
    "        self.builtin_adapter = max(adapters) + 3\n",
    "        self.memo = dict()\n",
    "        self.memo_count = dict()\n",
    "\n",
    "    def joltage_diffs(self):\n",
    "        return list(np.diff([self.charging_outlet] + self.adapters + [self.builtin_adapter]))\n",
    "    \n",
    "    def get_1_jolt_diff_count(self):\n",
    "        return self.joltage_diffs().count(1)\n",
    "\n",
    "    def get_3_jolts_diff_count(self):\n",
    "        return self.joltage_diffs().count(3)\n",
    "    \n",
    "    def adapters_combination(self, joltage = charging_outlet):\n",
    "        if not joltage in self.memo:\n",
    "            if joltage == self.builtin_adapter:\n",
    "                self.memo[joltage] = [str(joltage)]\n",
    "            elif not joltage in self.adapters and joltage != self.charging_outlet:\n",
    "                self.memo[joltage] = []\n",
    "            else:\n",
    "                self.memo[joltage] = [\n",
    "                        str(joltage) + \",\" + subresult \n",
    "                        for rating in [1, 2, 3]\n",
    "                        for subresult in self.adapters_combination(joltage + rating)\n",
    "                    ]\n",
    "\n",
    "        return self.memo[joltage]\n",
    "\n",
    "    def adapters_combination_count(self, joltage = charging_outlet):\n",
    "        if not joltage in self.memo_count:\n",
    "            if joltage == self.builtin_adapter:\n",
    "                self.memo_count[joltage] = 1\n",
    "            elif not joltage in self.adapters and joltage != self.charging_outlet:\n",
    "                self.memo_count[joltage] = 0\n",
    "            else:\n",
    "                self.memo_count[joltage] = sum([\n",
    "                        self.adapters_combination_count(joltage + rating)\n",
    "                        for rating in [1, 2, 3]\n",
    "                    ])\n",
    "\n",
    "        return self.memo_count[joltage]\n",
    "\n"
   ]
  },
  {
   "source": [
    "> Jangan lupa untuk melakukan *Testing* dengan data yang sudah disediakan."
   ],
   "cell_type": "markdown",
   "metadata": {}
  },
  {
   "cell_type": "code",
   "execution_count": 3,
   "metadata": {},
   "outputs": [
    {
     "output_type": "execute_result",
     "data": {
      "text/plain": [
       "True"
      ]
     },
     "metadata": {},
     "execution_count": 3
    }
   ],
   "source": [
    "# Unit Test\n",
    "\n",
    "ca_test1 = ChargingAdapters([16,10,15,5,1,11,7,19,6,12,4])\n",
    "\n",
    "ca_test2 = ChargingAdapters([28,33,18,42,31,14,46,20,48,47,24,23,49,45,19,38,39,11,1,32,25,35,8,17,7,9,4,2,34,10,3])\n",
    "\n",
    "# In this example, when using every adapter, there are 7 differences of 1 jolt and 5 differences of 3 jolts.\n",
    "\n",
    "ca_test1.get_1_jolt_diff_count() == 7 and ca_test1.get_3_jolts_diff_count() == 5"
   ]
  },
  {
   "cell_type": "code",
   "execution_count": 4,
   "metadata": {},
   "outputs": [
    {
     "output_type": "execute_result",
     "data": {
      "text/plain": [
       "True"
      ]
     },
     "metadata": {},
     "execution_count": 4
    }
   ],
   "source": [
    "#In this larger example, in a chain that uses all of the adapters, there are 22 differences of 1 jolt and 10 differences of 3 jolts.\n",
    "\n",
    "ca_test2.get_1_jolt_diff_count() == 22 and ca_test2.get_3_jolts_diff_count() == 10"
   ]
  },
  {
   "cell_type": "code",
   "execution_count": 5,
   "metadata": {},
   "outputs": [
    {
     "output_type": "execute_result",
     "data": {
      "text/plain": [
       "['0,1,4,5,6,7,10,11,12,15,16,19,22',\n",
       " '0,1,4,5,6,7,10,12,15,16,19,22',\n",
       " '0,1,4,5,7,10,11,12,15,16,19,22',\n",
       " '0,1,4,5,7,10,12,15,16,19,22',\n",
       " '0,1,4,6,7,10,11,12,15,16,19,22',\n",
       " '0,1,4,6,7,10,12,15,16,19,22',\n",
       " '0,1,4,7,10,11,12,15,16,19,22',\n",
       " '0,1,4,7,10,12,15,16,19,22']"
      ]
     },
     "metadata": {},
     "execution_count": 5
    }
   ],
   "source": [
    "# The first example above (the one that starts with 16, 10, 15) supports the following arrangements:\n",
    "# (0), 1, 4, 5, 6, 7, 10, 11, 12, 15, 16, 19, (22)\n",
    "# (0), 1, 4, 5, 6, 7, 10, 12, 15, 16, 19, (22)\n",
    "# (0), 1, 4, 5, 7, 10, 11, 12, 15, 16, 19, (22)\n",
    "# (0), 1, 4, 5, 7, 10, 12, 15, 16, 19, (22)\n",
    "# (0), 1, 4, 6, 7, 10, 11, 12, 15, 16, 19, (22)\n",
    "# (0), 1, 4, 6, 7, 10, 12, 15, 16, 19, (22)\n",
    "# (0), 1, 4, 7, 10, 11, 12, 15, 16, 19, (22)\n",
    "# (0), 1, 4, 7, 10, 12, 15, 16, 19, (22)\n",
    "\n",
    "ca_test1.adapters_combination()"
   ]
  },
  {
   "cell_type": "code",
   "execution_count": 6,
   "metadata": {},
   "outputs": [
    {
     "output_type": "execute_result",
     "data": {
      "text/plain": [
       "True"
      ]
     },
     "metadata": {},
     "execution_count": 6
    }
   ],
   "source": [
    "# Given the adapters from the first example, the total number of arrangements that connect the charging outlet to your device is 8.\n",
    "\n",
    "ca_test1.adapters_combination_count() == 8"
   ]
  },
  {
   "cell_type": "code",
   "execution_count": 7,
   "metadata": {},
   "outputs": [
    {
     "output_type": "execute_result",
     "data": {
      "text/plain": [
       "True"
      ]
     },
     "metadata": {},
     "execution_count": 7
    }
   ],
   "source": [
    "# \"In total, this set of adapters can connect the charging outlet to your device in 19208 distinct arrangements.\"\n",
    "\n",
    "ca_test2.adapters_combination_count() == 19208"
   ]
  },
  {
   "source": [
    "---\n",
    "# Part 1\n",
    "\n",
    "Bagian pertama cukup mudah, aku gunakan numpy untuk mencari selisih antara element list."
   ],
   "cell_type": "markdown",
   "metadata": {}
  },
  {
   "cell_type": "code",
   "execution_count": 8,
   "metadata": {},
   "outputs": [
    {
     "output_type": "execute_result",
     "data": {
      "text/plain": [
       "2368"
      ]
     },
     "metadata": {},
     "execution_count": 8
    }
   ],
   "source": [
    "ca = ChargingAdapters(adapters)\n",
    "\n",
    "ca.get_1_jolt_diff_count() * ca.get_3_jolts_diff_count()"
   ]
  },
  {
   "source": [
    "---\n",
    "## Part 2\n",
    "Bagian kedua aku menggunakan **recursive** untuk mencari kombinasi *adapters*. Hasilnya operasi semakin lama ketika elemen sudah melebih 20-an elemen.\n",
    "Kemudian aku optimalisasi dengan *memoization*, tapi operasi ini memakan **RAM** yang sangat besar dan tidak selesai dalam waktu lebih dari 10 menit.\n",
    "\n",
    "Akhirnya aku ganti saja metodenya dengan tidak usah menyimpan kombinasi *adapters*-nya dan cukup menghitung jumlah yang valid saja."
   ],
   "cell_type": "markdown",
   "metadata": {}
  },
  {
   "cell_type": "code",
   "execution_count": 9,
   "metadata": {},
   "outputs": [
    {
     "output_type": "execute_result",
     "data": {
      "text/plain": [
       "1727094849536"
      ]
     },
     "metadata": {},
     "execution_count": 9
    }
   ],
   "source": [
    "ca.adapters_combination_count()"
   ]
  }
 ]
}
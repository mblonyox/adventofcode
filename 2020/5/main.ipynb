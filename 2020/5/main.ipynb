{
 "metadata": {
  "language_info": {
   "codemirror_mode": {
    "name": "ipython",
    "version": 3
   },
   "file_extension": ".py",
   "mimetype": "text/x-python",
   "name": "python",
   "nbconvert_exporter": "python",
   "pygments_lexer": "ipython3",
   "version": "3.8.5-final"
  },
  "orig_nbformat": 2,
  "kernelspec": {
   "name": "python3",
   "display_name": "Python 3"
  }
 },
 "nbformat": 4,
 "nbformat_minor": 2,
 "cells": [
  {
   "source": [
    "# Day 5: Binary Boarding\n",
    "\n",
    "Di dalam soalnya sangat jelas ada petunjuk *binary space partitioning*.\n",
    "\n",
    "---"
   ],
   "cell_type": "markdown",
   "metadata": {}
  },
  {
   "cell_type": "code",
   "execution_count": 1,
   "metadata": {},
   "outputs": [
    {
     "output_type": "execute_result",
     "data": {
      "text/plain": [
       "['BFBFBBBRLL',\n",
       " 'BFFBBBBRRR',\n",
       " 'FFBBFBFLLL',\n",
       " 'FFBBBBBRLR',\n",
       " 'BFFBFBFRRL',\n",
       " 'BFFBFFBRLL',\n",
       " 'FBBFBFBRLL',\n",
       " 'FFBFFBBLLR',\n",
       " 'BFBBBFFRRR',\n",
       " 'FBFFFFBLLL']"
      ]
     },
     "metadata": {},
     "execution_count": 1
    }
   ],
   "source": [
    "inputs = []\n",
    "with open(\"input.txt\") as file:\n",
    "    inputs = [line.strip() for line in file]\n",
    "\n",
    "inputs[:10]"
   ]
  },
  {
   "source": [
    "---\n",
    "Kebetulan susunan kodenya tidak perlu dibalik, dimana *bit* untuk baris paling kecil sudah terletak di bagian kanan. Begitu juga dari kolom dan nomor kolom sudah diposisi dari mulai bit ke-4 sehingga cukup *parse* ke tipe ```int``` dengan basis 2."
   ],
   "cell_type": "markdown",
   "metadata": {}
  },
  {
   "cell_type": "code",
   "execution_count": 2,
   "metadata": {},
   "outputs": [
    {
     "output_type": "stream",
     "name": "stdout",
     "text": [
      "BFFFBBFRRR: row 70, column 7, seat ID 567. True\nFFFBBBFRRR: row 14, column 7, seat ID 119. True\nBBFFBBFRLL: row 102, column 4, seat ID 820. True\n"
     ]
    }
   ],
   "source": [
    "def parseSeatCode(string):\n",
    "    return int(string.replace(\"F\", \"0\").replace(\"B\", \"1\").replace(\"L\", \"0\").replace(\"R\", \"1\"), 2)\n",
    "\n",
    "# Unit testing:\n",
    "print(\"BFFFBBFRRR: row 70, column 7, seat ID 567.\", parseSeatCode(\"BFFFBBFRRR\") == 567)\n",
    "print(\"FFFBBBFRRR: row 14, column 7, seat ID 119.\", parseSeatCode(\"FFFBBBFRRR\") == 119)\n",
    "print(\"BBFFBBFRLL: row 102, column 4, seat ID 820.\", parseSeatCode(\"BBFFBBFRLL\") == 820)"
   ]
  },
  {
   "source": [
    "---\n",
    "## Part 1\n",
    "Bagian pertama cukup ubah semua kode menjadi *Seat ID* dan cari nilai maksimal dengan fungsi ```max```."
   ],
   "cell_type": "markdown",
   "metadata": {}
  },
  {
   "cell_type": "code",
   "execution_count": 3,
   "metadata": {},
   "outputs": [
    {
     "output_type": "execute_result",
     "data": {
      "text/plain": [
       "822"
      ]
     },
     "metadata": {},
     "execution_count": 3
    }
   ],
   "source": [
    "max([parseSeatCode(seat) for seat in inputs])"
   ]
  },
  {
   "source": [
    "---\n",
    "## Part 2\n",
    "Bagian kedua cukup lakukan perulangan dari tempat duduk paling depan kiri, hingga tempat duduk paling belakang kanan. Tapi karena baris paling depan dan belakang tidak ada maka dimulai dari baris kedua depan dan baris kedua dari belakang.\n",
    "\n",
    "dengan fungsi ```range(start, end)``` kita lakukan perulangan dan cek apakah tempat duduk tersebut ada di daftar penumpang, dan juga dari petunjuk soal apakah *Seat ID +1* dan *Seat ID -1* ada di daftar penumpang."
   ],
   "cell_type": "markdown",
   "metadata": {}
  },
  {
   "cell_type": "code",
   "execution_count": 4,
   "metadata": {},
   "outputs": [
    {
     "output_type": "stream",
     "name": "stdout",
     "text": [
      "705\n"
     ]
    }
   ],
   "source": [
    "farFrontLeftSeat = parseSeatCode(\"FFFFFFBLLL\")\n",
    "farBackRightSeat = parseSeatCode(\"BBBBBBFRRR\")\n",
    "seatBooked = [parseSeatCode(seat) for seat in inputs]\n",
    "\n",
    "for x in range(farFrontLeftSeat + 1, farBackRightSeat):\n",
    "    if not x in seatBooked and x-1 in seatBooked and x+1 in seatBooked:\n",
    "        print(x)\n",
    "        break"
   ]
  }
 ]
}
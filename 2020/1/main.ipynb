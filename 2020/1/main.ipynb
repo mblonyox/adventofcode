{
 "metadata": {
  "language_info": {
   "codemirror_mode": {
    "name": "ipython",
    "version": 3
   },
   "file_extension": ".py",
   "mimetype": "text/x-python",
   "name": "python",
   "nbconvert_exporter": "python",
   "pygments_lexer": "ipython3",
   "version": "3.8.1-final"
  },
  "orig_nbformat": 2,
  "kernelspec": {
   "name": "python3",
   "display_name": "Python 3"
  }
 },
 "nbformat": 4,
 "nbformat_minor": 2,
 "cells": [
  {
   "cell_type": "code",
   "execution_count": 1,
   "metadata": {},
   "outputs": [
    {
     "output_type": "execute_result",
     "data": {
      "text/plain": [
       "0      1728\n",
       "1      1621\n",
       "2      1856\n",
       "3      1683\n",
       "4      1940\n",
       "       ... \n",
       "195    1180\n",
       "196    1782\n",
       "197    1523\n",
       "198    1245\n",
       "199    1620\n",
       "Name: 0, Length: 200, dtype: int64"
      ]
     },
     "metadata": {},
     "execution_count": 1
    }
   ],
   "source": [
    "import pandas as pd\n",
    "\n",
    "entries = pd.read_csv(\"input.txt\", header=None)[0]\n",
    "entries"
   ]
  },
  {
   "source": [
    "---\n",
    "## Solusi awal hanya dengan loop"
   ],
   "cell_type": "markdown",
   "metadata": {}
  },
  {
   "cell_type": "code",
   "execution_count": 2,
   "metadata": {},
   "outputs": [
    {
     "output_type": "stream",
     "name": "stdout",
     "text": [
      "Wall time: 90 ms\n"
     ]
    },
    {
     "output_type": "execute_result",
     "data": {
      "text/plain": [
       "211899"
      ]
     },
     "metadata": {},
     "execution_count": 2
    }
   ],
   "source": [
    "def findProduct1(arr):\n",
    "    n = len(arr)\n",
    "    for i in range(n):\n",
    "        x = arr[i]\n",
    "        for j in range(i+1, n):\n",
    "            y = arr[j]\n",
    "            if x + y == 2020:\n",
    "                return x * y\n",
    "\n",
    "%time findProduct1(entries)\n"
   ]
  },
  {
   "cell_type": "code",
   "execution_count": 3,
   "metadata": {},
   "outputs": [
    {
     "output_type": "stream",
     "name": "stdout",
     "text": [
      "Wall time: 17.9 s\n"
     ]
    },
    {
     "output_type": "execute_result",
     "data": {
      "text/plain": [
       "275765682"
      ]
     },
     "metadata": {},
     "execution_count": 3
    }
   ],
   "source": [
    "def findProduct2(arr):\n",
    "    n = len(arr)\n",
    "    for i in range(n):\n",
    "        x = arr[i]\n",
    "        for j in range(i+1, n):\n",
    "            y = arr[j]\n",
    "            for k in range(j+1, n):\n",
    "                z = arr[k]\n",
    "                if x+y+z == 2020:\n",
    "                    return x * y * z\n",
    "%time findProduct2(entries)\n"
   ]
  },
  {
   "source": [
    "---\n",
    "## Solusi menggunakan itertools\n"
   ],
   "cell_type": "markdown",
   "metadata": {}
  },
  {
   "cell_type": "code",
   "execution_count": 4,
   "metadata": {},
   "outputs": [],
   "source": [
    "from itertools import combinations"
   ]
  },
  {
   "cell_type": "code",
   "execution_count": 5,
   "metadata": {},
   "outputs": [
    {
     "output_type": "stream",
     "name": "stdout",
     "text": [
      "Wall time: 540 µs\n"
     ]
    },
    {
     "output_type": "execute_result",
     "data": {
      "text/plain": [
       "211899"
      ]
     },
     "metadata": {},
     "execution_count": 5
    }
   ],
   "source": [
    "def findProduct1WithTool(arr):\n",
    "    for x, y in combinations(arr, 2):\n",
    "        if x + y == 2020:\n",
    "            return x * y\n",
    "\n",
    "%time findProduct1WithTool(entries)"
   ]
  },
  {
   "cell_type": "code",
   "execution_count": 6,
   "metadata": {},
   "outputs": [
    {
     "output_type": "stream",
     "name": "stdout",
     "text": [
      "Wall time: 230 ms\n"
     ]
    },
    {
     "output_type": "execute_result",
     "data": {
      "text/plain": [
       "275765682"
      ]
     },
     "metadata": {},
     "execution_count": 6
    }
   ],
   "source": [
    "def findProduct2WithTool(arr):\n",
    "    for x, y, z in combinations(arr, 3):\n",
    "        if x + y + z == 2020:\n",
    "            return x * y * z\n",
    "\n",
    "%time findProduct2WithTool(entries)"
   ]
  }
 ]
}
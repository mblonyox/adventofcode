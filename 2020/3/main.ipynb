{
 "metadata": {
  "language_info": {
   "codemirror_mode": {
    "name": "ipython",
    "version": 3
   },
   "file_extension": ".py",
   "mimetype": "text/x-python",
   "name": "python",
   "nbconvert_exporter": "python",
   "pygments_lexer": "ipython3",
   "version": "3.8.1-final"
  },
  "orig_nbformat": 2,
  "kernelspec": {
   "name": "python3",
   "display_name": "Python 3"
  }
 },
 "nbformat": 4,
 "nbformat_minor": 2,
 "cells": [
  {
   "source": [
    "# Day 3: Toboggan Trajectory\n",
    "---\n",
    "\n",
    "Input cukup dibaca menjadi ```list[str]```. Jangan lupa hilangkan *line break* ```\\n``` dengan fungsi ```str.strip()```."
   ],
   "cell_type": "markdown",
   "metadata": {}
  },
  {
   "cell_type": "code",
   "execution_count": 1,
   "metadata": {},
   "outputs": [],
   "source": [
    "tree_map = [x.strip() for x in open(\"input.txt\")]"
   ]
  },
  {
   "source": [
    "---\n",
    "## Part 1\n",
    "Cukup bikin fungsi dengan melakukan iterasi tiap perubahan index barus dan kolom."
   ],
   "cell_type": "markdown",
   "metadata": {}
  },
  {
   "cell_type": "code",
   "execution_count": 2,
   "metadata": {},
   "outputs": [],
   "source": [
    "def count_tree_on_slope(tree_map, right, down):\n",
    "    row = 0\n",
    "    col = 0\n",
    "    result = 0\n",
    "    while row < len(tree_map):\n",
    "        if (tree_map[row][col % len(tree_map[row])]) == \"#\":\n",
    "            result += 1\n",
    "        row += down\n",
    "        col += right\n",
    "    return result"
   ]
  },
  {
   "cell_type": "code",
   "execution_count": 3,
   "metadata": {},
   "outputs": [
    {
     "output_type": "execute_result",
     "data": {
      "text/plain": [
       "218"
      ]
     },
     "metadata": {},
     "execution_count": 3
    }
   ],
   "source": [
    "count_tree_on_slope(tree_map, 3, 1)"
   ]
  },
  {
   "source": [
    "---\n",
    "## Part 2\n",
    "Dengan fungsi yang sudah dibuat sebelumnya, kita bisa menghitung jumlah pohon pada tiap *slope* yang ditentukan."
   ],
   "cell_type": "markdown",
   "metadata": {}
  },
  {
   "cell_type": "code",
   "execution_count": 4,
   "metadata": {},
   "outputs": [
    {
     "output_type": "execute_result",
     "data": {
      "text/plain": [
       "3847183340"
      ]
     },
     "metadata": {},
     "execution_count": 4
    }
   ],
   "source": [
    "slopes = [(1, 1), (3, 1), (5, 1), (7, 1), (1, 2)]\n",
    "\n",
    "result = 1\n",
    "for (right, down) in slopes:\n",
    "    result *= count_tree_on_slope(tree_map, right, down)\n",
    "result"
   ]
  }
 ]
}
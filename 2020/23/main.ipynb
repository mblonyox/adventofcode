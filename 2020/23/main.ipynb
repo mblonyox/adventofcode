{
 "metadata": {
  "language_info": {
   "codemirror_mode": {
    "name": "ipython",
    "version": 3
   },
   "file_extension": ".py",
   "mimetype": "text/x-python",
   "name": "python",
   "nbconvert_exporter": "python",
   "pygments_lexer": "ipython3",
   "version": "3.8.5-final"
  },
  "orig_nbformat": 2,
  "kernelspec": {
   "name": "python3",
   "display_name": "Python 3",
   "language": "python"
  }
 },
 "nbformat": 4,
 "nbformat_minor": 2,
 "cells": [
  {
   "cell_type": "code",
   "execution_count": 1,
   "metadata": {},
   "outputs": [],
   "source": [
    "my_input = None\n",
    "with open(\"input.txt\") as file:\n",
    "    my_input = file.read()"
   ]
  },
  {
   "cell_type": "code",
   "execution_count": 2,
   "metadata": {},
   "outputs": [],
   "source": [
    "from tqdm import trange\n",
    "\n",
    "class Node:\n",
    "    def __init__(self, data):\n",
    "        self.data = data\n",
    "        self.next = None\n",
    "\n",
    "class CircularLinkedList:\n",
    "    def __init__(self):\n",
    "        self.head = None\n",
    "        self.tail = None\n",
    "        self.datas = dict()\n",
    "\n",
    "    def add(self, node):\n",
    "        if self.head == None:\n",
    "            self.head = node\n",
    "            self.tail = node\n",
    "            node.next = self.head\n",
    "        else:\n",
    "            node.next = self.head\n",
    "            self.tail.next = node\n",
    "            self.tail = node\n",
    "        self.datas[node.data] = node\n",
    "    \n",
    "    def search(self, data):\n",
    "        return self.datas[data]\n",
    "\n",
    "def crab_cups(labels, moves):\n",
    "    min_label = min(labels)\n",
    "    max_label = max(labels)\n",
    "    circle = CircularLinkedList()\n",
    "    for label in labels:\n",
    "        circle.add(Node(label))\n",
    "    current = circle.head\n",
    "    for _ in trange(moves):\n",
    "        # Pick three cups\n",
    "        cup1 = current.next\n",
    "        cup2 = cup1.next\n",
    "        cup3 = cup2.next\n",
    "        cup4 = cup3.next\n",
    "        current.next = cup4\n",
    "        # Select destination cup\n",
    "        _3cups_label = {cup1.data, cup2.data, cup3.data}\n",
    "        dest_label = current.data - 1\n",
    "        while dest_label in _3cups_label or dest_label < min_label:\n",
    "            if dest_label <= min_label:\n",
    "                dest_label = max_label\n",
    "            else:\n",
    "                dest_label -= 1\n",
    "        dest = circle.search(dest_label)\n",
    "        # Put three cups\n",
    "        dest.next, cup3.next = cup1, dest.next\n",
    "        # Change current\n",
    "        current = current.next\n",
    "    \n",
    "    return circle\n"
   ]
  },
  {
   "cell_type": "code",
   "execution_count": 3,
   "metadata": {},
   "outputs": [
    {
     "output_type": "stream",
     "name": "stderr",
     "text": [
      "100%|██████████| 100/100 [00:00<?, ?it/s]Wall time: 37 ms\n",
      "\n"
     ]
    },
    {
     "output_type": "execute_result",
     "data": {
      "text/plain": [
       "'97342568'"
      ]
     },
     "metadata": {},
     "execution_count": 3
    }
   ],
   "source": [
    "def part1(input_str):\n",
    "    labels = [int(label) for label in input_str.strip()]\n",
    "    circle = crab_cups(labels, 100)    \n",
    "\n",
    "    result = \"\"\n",
    "    cup_1 = circle.search(1)\n",
    "    next_cup = cup_1.next\n",
    "    while next_cup != cup_1:\n",
    "        result += str(next_cup.data)\n",
    "        next_cup = next_cup.next\n",
    "    return result\n",
    "\n",
    "%time part1(my_input)\n",
    "\n"
   ]
  },
  {
   "cell_type": "code",
   "execution_count": 4,
   "metadata": {},
   "outputs": [
    {
     "output_type": "stream",
     "name": "stderr",
     "text": [
      "100%|██████████| 10000000/10000000 [00:31<00:00, 317354.49it/s]\n",
      "Wall time: 34.9 s\n"
     ]
    },
    {
     "output_type": "execute_result",
     "data": {
      "text/plain": [
       "902208073192"
      ]
     },
     "metadata": {},
     "execution_count": 4
    }
   ],
   "source": [
    "def part2(input_str):\n",
    "    labels = [int(label) for label in input_str.strip()]\n",
    "    labels.extend(range(10, 1_000_001))\n",
    "    circle = crab_cups(labels, 10_000_000)\n",
    "\n",
    "    cup_1 = circle.search(1)\n",
    "    return cup_1.next.data * cup_1.next.next.data\n",
    "\n",
    "%time part2(my_input)"
   ]
  }
 ]
}
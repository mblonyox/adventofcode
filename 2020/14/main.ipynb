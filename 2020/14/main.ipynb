{
 "metadata": {
  "language_info": {
   "codemirror_mode": {
    "name": "ipython",
    "version": 3
   },
   "file_extension": ".py",
   "mimetype": "text/x-python",
   "name": "python",
   "nbconvert_exporter": "python",
   "pygments_lexer": "ipython3",
   "version": "3.8.5-final"
  },
  "orig_nbformat": 2,
  "kernelspec": {
   "name": "python3",
   "display_name": "Python 3",
   "language": "python"
  }
 },
 "nbformat": 4,
 "nbformat_minor": 2,
 "cells": [
  {
   "source": [
    "# Day 14: Docking Data\n",
    "---\n",
    "Soal hari ini kita belajar *bitwise operation*."
   ],
   "cell_type": "markdown",
   "metadata": {}
  },
  {
   "cell_type": "code",
   "execution_count": 1,
   "metadata": {},
   "outputs": [
    {
     "output_type": "execute_result",
     "data": {
      "text/plain": [
       "['mask = 0101111110011010X110100010X100000XX0',\n",
       " 'mem[46424] = 216719',\n",
       " 'mem[43628] = 6647',\n",
       " 'mem[21582] = 4737255',\n",
       " 'mem[62945] = 25540']"
      ]
     },
     "metadata": {},
     "execution_count": 1
    }
   ],
   "source": [
    "inputs = None\n",
    "with open(\"input.txt\") as file:\n",
    "    inputs = [line.strip() for line in file]\n",
    "\n",
    "inputs[:5]"
   ]
  },
  {
   "source": [
    "---\n",
    "## Part 1\n",
    "Bagian pertama cukup mudah, aku membuat variabel untuk menerapkan **AND** *bitwise operation*, dan juga variable untuk melakukan **OR** *bitwise operation*. Maka nilai yang sudah diterapkan *masking* dapat diperoleh."
   ],
   "cell_type": "markdown",
   "metadata": {}
  },
  {
   "cell_type": "code",
   "execution_count": 2,
   "metadata": {},
   "outputs": [
    {
     "output_type": "execute_result",
     "data": {
      "text/plain": [
       "True"
      ]
     },
     "metadata": {},
     "execution_count": 2
    }
   ],
   "source": [
    "def part1(inp):\n",
    "    mem = dict()\n",
    "    mask = lambda x: x\n",
    "    for line in inp:\n",
    "        if line.startswith(\"mask\"):\n",
    "            mask_str = line.split(\" = \")[1]\n",
    "            and_bits = int(mask_str.replace(\"X\", \"1\"), 2)\n",
    "            or_bits = int(mask_str.replace(\"X\", \"0\"), 2)\n",
    "            mask = lambda x: (x & and_bits) | or_bits\n",
    "        else:\n",
    "            str1, str2  = line.split(\" = \")\n",
    "            mem_address = int(str1[4:-1])\n",
    "            masked_value = mask(int(str2))\n",
    "            mem[mem_address] = masked_value\n",
    "    return sum(mem.values())\n",
    "\n",
    "# Unit test\n",
    "\n",
    "# In the above example, only two values in memory are not zero - 101 (at address 7) and 64 (at address 8) - producing a sum of 165.\n",
    "\n",
    "part1([\n",
    "    \"mask = XXXXXXXXXXXXXXXXXXXXXXXXXXXXX1XXXX0X\",\n",
    "    \"mem[8] = 11\",\n",
    "    \"mem[7] = 101\",\n",
    "    \"mem[8] = 0\",\n",
    "]) == 165"
   ]
  },
  {
   "cell_type": "code",
   "execution_count": 3,
   "metadata": {},
   "outputs": [
    {
     "output_type": "stream",
     "name": "stdout",
     "text": [
      "Wall time: 1 ms\n"
     ]
    },
    {
     "output_type": "execute_result",
     "data": {
      "text/plain": [
       "11612740949946"
      ]
     },
     "metadata": {},
     "execution_count": 3
    }
   ],
   "source": [
    "%time part1(inputs)"
   ]
  },
  {
   "source": [
    "---\n",
    "## Part 2\n",
    "Bagian kedua aku membuat fungsi untuk membantu membuat daftar ```mem_address``` yang akan digunakan. Aku gunakan **XOR** bitwise operation untuk mencari semua kembungkinan alamat."
   ],
   "cell_type": "markdown",
   "metadata": {}
  },
  {
   "cell_type": "code",
   "execution_count": 4,
   "metadata": {},
   "outputs": [
    {
     "output_type": "execute_result",
     "data": {
      "text/plain": [
       "True"
      ]
     },
     "metadata": {},
     "execution_count": 4
    }
   ],
   "source": [
    "def part2(inp):\n",
    "    mem = dict()\n",
    "    address_mask = lambda x: [x]\n",
    "\n",
    "    def address_generator(mask):\n",
    "        or_bits = int(mask_str.replace(\"X\", \"0\"), 2)\n",
    "        flip_bits = [0]\n",
    "        for i, x in enumerate(reversed(mask)):\n",
    "            if x == \"X\":\n",
    "                flip_bits += [ bits ^ (1 << i) for bits in flip_bits]\n",
    "        return lambda x: [(x | or_bits) ^ bits for bits in flip_bits]\n",
    "\n",
    "    for line in inp:\n",
    "        if line.startswith(\"mask\"):\n",
    "            mask_str = line.split(\" = \")[1]\n",
    "            address_mask = address_generator(mask_str)\n",
    "        else:\n",
    "            str1, str2  = line.split(\" = \")\n",
    "            mem_address = int(str1[4:-1])\n",
    "            value = int(str2)\n",
    "            for address in address_mask(mem_address):\n",
    "                mem[address] = value\n",
    "    return sum(mem.values())\n",
    "\n",
    "# Unit test\n",
    "\n",
    "# In this example, the sum is 208.\n",
    "\n",
    "part2([\n",
    "    \"mask = 000000000000000000000000000000X1001X\",\n",
    "    \"mem[42] = 100\",\n",
    "    \"mask = 00000000000000000000000000000000X0XX\",\n",
    "    \"mem[26] = 1\"\n",
    "]) == 208"
   ]
  },
  {
   "cell_type": "code",
   "execution_count": 5,
   "metadata": {},
   "outputs": [
    {
     "output_type": "stream",
     "name": "stdout",
     "text": [
      "Wall time: 39 ms\n"
     ]
    },
    {
     "output_type": "execute_result",
     "data": {
      "text/plain": [
       "3394509207186"
      ]
     },
     "metadata": {},
     "execution_count": 5
    }
   ],
   "source": [
    "%time part2(inputs)"
   ]
  }
 ]
}
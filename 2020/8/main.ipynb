{
 "metadata": {
  "language_info": {
   "codemirror_mode": {
    "name": "ipython",
    "version": 3
   },
   "file_extension": ".py",
   "mimetype": "text/x-python",
   "name": "python",
   "nbconvert_exporter": "python",
   "pygments_lexer": "ipython3",
   "version": "3.7.4-final"
  },
  "orig_nbformat": 2,
  "kernelspec": {
   "name": "python3",
   "display_name": "Python 3"
  }
 },
 "nbformat": 4,
 "nbformat_minor": 2,
 "cells": [
  {
   "source": [
    "# Day 8: Handheld Halting\n",
    "---\n",
    "Soal kali ini hampir mirip seperti soal tahun kemarin. Ini seperti belajar cara kerja komputer menggunakan *assembly code*."
   ],
   "cell_type": "markdown",
   "metadata": {}
  },
  {
   "cell_type": "code",
   "execution_count": 1,
   "metadata": {},
   "outputs": [
    {
     "output_type": "execute_result",
     "data": {
      "text/plain": [
       "['acc +33',\n",
       " 'acc -7',\n",
       " 'acc +39',\n",
       " 'jmp +214',\n",
       " 'jmp +250',\n",
       " 'jmp +51',\n",
       " 'acc +29',\n",
       " 'acc +6',\n",
       " 'acc +20',\n",
       " 'jmp +489']"
      ]
     },
     "metadata": {},
     "execution_count": 1
    }
   ],
   "source": [
    "inputs = []\n",
    "with open(\"input.txt\") as file:\n",
    "    inputs = [line.strip() for line in file]\n",
    "\n",
    "inputs[:10]"
   ]
  },
  {
   "source": [
    "Untuk soal ini saya menggunakan *Class* di Python. Saya juga membuat *Custom Exception* untuk menangani masalah jika terjadi *infinite loop*."
   ],
   "cell_type": "markdown",
   "metadata": {}
  },
  {
   "cell_type": "code",
   "execution_count": 2,
   "metadata": {},
   "outputs": [],
   "source": [
    "class LoopDetectedException(BaseException):\n",
    "    def __init__(self, accumulator):\n",
    "        self.accumulator = accumulator\n",
    "    pass\n",
    "\n",
    "class Machine:\n",
    "    def __init__(self, code = []):\n",
    "        self.code = code\n",
    "        self.accumulator = 0\n",
    "        self.pointer = 0\n",
    "    \n",
    "    def run(self):\n",
    "        executed = []\n",
    "        while self.pointer < len(self.code):\n",
    "            if(self.pointer in executed):\n",
    "                raise LoopDetectedException(self.accumulator)\n",
    "            executed.append(self.pointer)\n",
    "            inst, value = tuple(self.code[self.pointer].split(\" \"))\n",
    "            getattr(self, inst)(value)\n",
    "        return self.accumulator\n",
    "\n",
    "    def acc(self, value):\n",
    "        self.accumulator += int(value)\n",
    "        self.pointer += 1\n",
    "    \n",
    "    def jmp(self, value):\n",
    "        self.pointer += int(value)\n",
    "    \n",
    "    def nop(self, value):\n",
    "        self.pointer += 1"
   ]
  },
  {
   "source": [
    "---\n",
    "# Part 1\n",
    "Bagian pertama cukup langsung jalankan ```inputs``` pada class ```Machine``` dan tangkap jika terjadi error ```LoopDetectedException```."
   ],
   "cell_type": "markdown",
   "metadata": {}
  },
  {
   "cell_type": "code",
   "execution_count": 3,
   "metadata": {},
   "outputs": [
    {
     "output_type": "stream",
     "name": "stdout",
     "text": [
      "1614\n"
     ]
    }
   ],
   "source": [
    "try:\n",
    "    Machine(inputs).run()\n",
    "except LoopDetectedException as e:\n",
    "    print(e.accumulator)"
   ]
  },
  {
   "source": [
    "---\n",
    "# Part 2\n",
    "Bagian kedua aku loop aja masing-masing baris ```inputs``` dan ganti ```jmp``` ke ```nop``` atau sebaliknya, lalu aku coba apakah berhasil atau masih terjadi *error*."
   ],
   "cell_type": "markdown",
   "metadata": {}
  },
  {
   "cell_type": "code",
   "execution_count": 4,
   "metadata": {},
   "outputs": [
    {
     "output_type": "stream",
     "name": "stdout",
     "text": [
      "1260\n"
     ]
    }
   ],
   "source": [
    "for i in range(len(inputs)-1):\n",
    "    line = inputs[i]\n",
    "    alt = \"\"\n",
    "    if line.startswith(\"acc\"):\n",
    "        continue\n",
    "    if line.startswith(\"jmp\"):\n",
    "        alt = line.replace(\"jmp\", \"nop\")\n",
    "    if line.startswith(\"nop\"):\n",
    "        alt = line.replace(\"nop\", \"jmp\")\n",
    "    try:\n",
    "        newInputs = inputs[:i] + [alt] + inputs[i+1:]\n",
    "        print(Machine(newInputs).run())\n",
    "        break\n",
    "    except LoopDetectedException:\n",
    "        continue"
   ]
  }
 ]
}
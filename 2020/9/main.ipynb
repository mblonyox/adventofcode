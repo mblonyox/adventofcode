{
 "metadata": {
  "language_info": {
   "codemirror_mode": {
    "name": "ipython",
    "version": 3
   },
   "file_extension": ".py",
   "mimetype": "text/x-python",
   "name": "python",
   "nbconvert_exporter": "python",
   "pygments_lexer": "ipython3",
   "version": "3.8.1-final"
  },
  "orig_nbformat": 2,
  "kernelspec": {
   "name": "python3",
   "display_name": "Python 3"
  }
 },
 "nbformat": 4,
 "nbformat_minor": 2,
 "cells": [
  {
   "source": [
    "# Day 9: Encoding Error\n",
    "---\n",
    "Soal hari ini lebih banyak ke algoritma *array*."
   ],
   "cell_type": "markdown",
   "metadata": {}
  },
  {
   "cell_type": "code",
   "execution_count": 1,
   "metadata": {},
   "outputs": [
    {
     "output_type": "execute_result",
     "data": {
      "text/plain": [
       "[19, 30, 13, 31, 42, 41, 44, 34, 39, 6]"
      ]
     },
     "metadata": {},
     "execution_count": 1
    }
   ],
   "source": [
    "inputs = []\n",
    "with open(\"input.txt\") as file:\n",
    "    inputs = [int(line) for line in file]\n",
    "\n",
    "inputs[:10]"
   ]
  },
  {
   "source": [
    "Untuk mendukung *Test Driven Development* kita sediakan contoh untuk *testing*. Hahahaha"
   ],
   "cell_type": "markdown",
   "metadata": {}
  },
  {
   "cell_type": "code",
   "execution_count": 2,
   "metadata": {},
   "outputs": [],
   "source": [
    "test_inputs = [35,20,15,25,47,40,62,55,65,95,102,117,150,182,127,219,299,277,309,576]"
   ]
  },
  {
   "source": [
    "---\n",
    "## Part 1\n",
    "Bagian pertama aku buat fungsi yang melakukan iterasi elemen setelah *preamble*. Kemudian aku cek apakah ada di daftar kombinasi jumlah 2 angka di sebelumnya."
   ],
   "cell_type": "markdown",
   "metadata": {}
  },
  {
   "cell_type": "code",
   "execution_count": 3,
   "metadata": {},
   "outputs": [
    {
     "output_type": "execute_result",
     "data": {
      "text/plain": [
       "True"
      ]
     },
     "metadata": {},
     "execution_count": 3
    }
   ],
   "source": [
    "from itertools import combinations\n",
    "\n",
    "def findFirstInvalidNumber(arr, preamble=25):\n",
    "    for i in range(preamble, len(arr)):\n",
    "        pairs = [a+b for a, b in combinations(arr[i-preamble: i], 2)]\n",
    "        if not arr[i] in pairs:\n",
    "            return arr[i]\n",
    "\n",
    "# Unit test\n",
    "# \"In this example, after the 5-number preamble, almost every number is the sum of two of the previous 5 numbers; the only number that does not follow this rule is 127.\"\n",
    "findFirstInvalidNumber(test_inputs, 5) == 127"
   ]
  },
  {
   "cell_type": "code",
   "execution_count": 4,
   "metadata": {},
   "outputs": [
    {
     "output_type": "execute_result",
     "data": {
      "text/plain": [
       "393911906"
      ]
     },
     "metadata": {},
     "execution_count": 4
    }
   ],
   "source": [
    "result1 = findFirstInvalidNumber(inputs)\n",
    "result1"
   ]
  },
  {
   "source": [
    "---\n",
    "## Part 2\n",
    "Bagian kedua aku gunakan iterasi juga dengan 3 variabel awal ```start, end, current_sum```. Jika ```current_sum``` lebih besar dari ```sum_target``` maka kita dapat memajukan ```start``` 1 indeks ke belakang."
   ],
   "cell_type": "markdown",
   "metadata": {}
  },
  {
   "cell_type": "code",
   "execution_count": 5,
   "metadata": {},
   "outputs": [
    {
     "output_type": "execute_result",
     "data": {
      "text/plain": [
       "True"
      ]
     },
     "metadata": {},
     "execution_count": 5
    }
   ],
   "source": [
    "def findSubArraySum(arr, sum_target):\n",
    "    start = 0\n",
    "    current_sum = arr[start]\n",
    "    for end in range(1, len(arr)):\n",
    "        current_sum += arr[end]\n",
    "        while current_sum > sum_target and start < end - 1:\n",
    "            current_sum -= arr[start]\n",
    "            start += 1\n",
    "        \n",
    "        if current_sum == sum_target:\n",
    "            return arr[start:end+1]\n",
    "\n",
    "# Unit test\n",
    "# \"In this list, adding up all of the numbers from 15 through 40 produces the invalid number from step 1, 127.\"\n",
    "\n",
    "test_sub_arr = findSubArraySum(test_inputs, 127)\n",
    "test_sub_arr[0] == 15 and test_sub_arr[-1] == 40"
   ]
  },
  {
   "cell_type": "code",
   "execution_count": 6,
   "metadata": {},
   "outputs": [
    {
     "output_type": "execute_result",
     "data": {
      "text/plain": [
       "59341885"
      ]
     },
     "metadata": {},
     "execution_count": 6
    }
   ],
   "source": [
    "sub_arr = findSubArraySum(inputs, result1)\n",
    "result2 = min(sub_arr) + max(sub_arr)\n",
    "result2"
   ]
  }
 ]
}
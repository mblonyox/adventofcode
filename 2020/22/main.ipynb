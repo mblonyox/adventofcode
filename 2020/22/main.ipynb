{
 "metadata": {
  "language_info": {
   "codemirror_mode": {
    "name": "ipython",
    "version": 3
   },
   "file_extension": ".py",
   "mimetype": "text/x-python",
   "name": "python",
   "nbconvert_exporter": "python",
   "pygments_lexer": "ipython3",
   "version": "3.9.1-final"
  },
  "orig_nbformat": 2,
  "kernelspec": {
   "name": "python3",
   "display_name": "Python 3",
   "language": "python"
  }
 },
 "nbformat": 4,
 "nbformat_minor": 2,
 "cells": [
  {
   "cell_type": "code",
   "execution_count": 1,
   "metadata": {},
   "outputs": [],
   "source": [
    "my_input = None\n",
    "with open(\"input.txt\") as file:\n",
    "    my_input = file.read()"
   ]
  },
  {
   "cell_type": "code",
   "execution_count": 2,
   "metadata": {},
   "outputs": [
    {
     "output_type": "stream",
     "name": "stdout",
     "text": [
      "Wall time: 0 ns\n"
     ]
    },
    {
     "output_type": "execute_result",
     "data": {
      "text/plain": [
       "32495"
      ]
     },
     "metadata": {},
     "execution_count": 2
    }
   ],
   "source": [
    "def part1(input_str):\n",
    "    deck1, deck2 = ([int(card) for card in deck.split(\"\\n\")[1:]] for deck in input_str.strip().split(\"\\n\\n\"))\n",
    "    while deck1 and deck2:\n",
    "        card1, card2 = deck1.pop(0), deck2.pop(0)\n",
    "        if card1 > card2:\n",
    "            deck1 += [card1, card2]\n",
    "        else:\n",
    "            deck2 += [card2, card1]\n",
    "    return sum( card * (i+1) for i, card in enumerate(reversed(deck1 or deck2)))\n",
    "\n",
    "%time part1(my_input)"
   ]
  },
  {
   "cell_type": "code",
   "execution_count": 4,
   "metadata": {},
   "outputs": [
    {
     "output_type": "stream",
     "name": "stdout",
     "text": [
      "Wall time: 7min 6s\n"
     ]
    },
    {
     "output_type": "execute_result",
     "data": {
      "text/plain": [
       "32665"
      ]
     },
     "metadata": {},
     "execution_count": 4
    }
   ],
   "source": [
    "def part2(input_str):\n",
    "    starting_deck1, starting_deck2 = ([int(card) for card in deck.split(\"\\n\")[1:]] for deck in input_str.strip().split(\"\\n\\n\"))\n",
    "\n",
    "    def play_game(deck1, deck2, memo=dict()):\n",
    "        game_key = (tuple(deck1), tuple(deck2))\n",
    "        if not game_key in memo:\n",
    "            round_history = []\n",
    "            while deck1 and deck2:\n",
    "                # Check if infinite loop\n",
    "                round_key = (tuple(deck1), tuple(deck2))\n",
    "                if round_key in round_history:\n",
    "                    memo[game_key] = (True, deck1)\n",
    "                    break\n",
    "                else:\n",
    "                    round_history.append(round_key)\n",
    "                # Deal card from each deck\n",
    "                card1, card2 = deck1.pop(0), deck2.pop(0)\n",
    "                # Get current round winner\n",
    "                p1_win = None\n",
    "                if len(deck1) >= card1 and len(deck2) >= card2:\n",
    "                    p1_win, _  = play_game(deck1[:card1], deck2[:card2], memo)\n",
    "                else:\n",
    "                    p1_win = card1 > card2\n",
    "                # Put winner's cards into winner's deck\n",
    "                if p1_win:\n",
    "                    deck1 += [card1, card2]\n",
    "                else:\n",
    "                    deck2 += [card2, card1]\n",
    "            memo[game_key] = (bool(deck1), deck1 or deck2)\n",
    "        return memo[game_key]\n",
    "\n",
    "    _, winner_deck = play_game(starting_deck1, starting_deck2)\n",
    "    return sum( card * (i+1) for i, card in enumerate(reversed(winner_deck)))\n",
    "\n",
    "%time part2(my_input)"
   ]
  }
 ]
}
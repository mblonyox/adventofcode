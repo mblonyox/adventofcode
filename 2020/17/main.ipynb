{
 "metadata": {
  "language_info": {
   "codemirror_mode": {
    "name": "ipython",
    "version": 3
   },
   "file_extension": ".py",
   "mimetype": "text/x-python",
   "name": "python",
   "nbconvert_exporter": "python",
   "pygments_lexer": "ipython3",
   "version": "3.8.5-final"
  },
  "orig_nbformat": 2,
  "kernelspec": {
   "name": "python3",
   "display_name": "Python 3",
   "language": "python"
  }
 },
 "nbformat": 4,
 "nbformat_minor": 2,
 "cells": [
  {
   "source": [
    "# Day 17: Conway Cubes\n",
    "---\n",
    "Dengan ```tuple``` dan ```set``` di python, tidak perlu membuat abstraksi titik koordinat 3 dimensi ataupun 4 dimensi."
   ],
   "cell_type": "markdown",
   "metadata": {}
  },
  {
   "cell_type": "code",
   "execution_count": 1,
   "metadata": {},
   "outputs": [],
   "source": [
    "my_input = None\n",
    "with open(\"input.txt\") as file:\n",
    "    my_input = [line.strip() for line in file]"
   ]
  },
  {
   "source": [
    "---\n",
    "## Part 1\n",
    "Dengan menggunakan ```Set``` di python kita bisa langsung menggabungkan semua koordinat kubus yang kita ingin cek. Karena terlalu panjang kalau dibuat dalam satu *list/set comprehension* aku buat fungsi untuk mempermudahnya saja."
   ],
   "cell_type": "markdown",
   "metadata": {}
  },
  {
   "cell_type": "code",
   "execution_count": 2,
   "metadata": {},
   "outputs": [
    {
     "output_type": "execute_result",
     "data": {
      "text/plain": [
       "True"
      ]
     },
     "metadata": {},
     "execution_count": 2
    }
   ],
   "source": [
    "def part1(inp):\n",
    "    active_cubes = {(x, y, 0) for x, row in enumerate(inp) for y, cube in enumerate(row) if cube == \"#\"}\n",
    "    def get_neighbours(coord3d):\n",
    "        x, y, z = coord3d\n",
    "        return {(i, j, k) for i in (x-1, x, x+1) for j in (y-1, y, y+1) for k in (z-1, z, z+1)}\n",
    "\n",
    "    def get_next_cube_state(coord3d):\n",
    "        active_neighbours_count = len([neighbour for neighbour in get_neighbours(coord3d) if neighbour in active_cubes and neighbour != coord3d])\n",
    "        return active_neighbours_count == 3 or (active_neighbours_count == 2 and coord3d in active_cubes)\n",
    "\n",
    "    for i in range(6):\n",
    "        active_cubes = {neighbour for cube in active_cubes for neighbour in get_neighbours(cube) if get_next_cube_state(neighbour)}\n",
    "    return len(active_cubes)\n",
    "\n",
    "# Unit test\n",
    "\n",
    "# After the full six-cycle boot process completes, 112 cubes are left in the active state.\n",
    "\n",
    "part1([\n",
    "\".#.\",\n",
    "\"..#\",\n",
    "\"###\"]) == 112\n"
   ]
  },
  {
   "cell_type": "code",
   "execution_count": 3,
   "metadata": {},
   "outputs": [
    {
     "output_type": "stream",
     "name": "stdout",
     "text": [
      "Wall time: 207 ms\n"
     ]
    },
    {
     "output_type": "execute_result",
     "data": {
      "text/plain": [
       "207"
      ]
     },
     "metadata": {},
     "execution_count": 3
    }
   ],
   "source": [
    "%time part1(my_input)\n"
   ]
  },
  {
   "source": [
    "---\n",
    "## Part 2\n",
    "Bagian kedua hanya memodifikasi fungsi sebelumnya dengan satu tambahan dimensi di koordinatnya."
   ],
   "cell_type": "markdown",
   "metadata": {}
  },
  {
   "cell_type": "code",
   "execution_count": 4,
   "metadata": {},
   "outputs": [
    {
     "output_type": "execute_result",
     "data": {
      "text/plain": [
       "True"
      ]
     },
     "metadata": {},
     "execution_count": 4
    }
   ],
   "source": [
    "def part2(inp):\n",
    "    active_cubes = {(w, x, 0, 0) for w, row in enumerate(inp) for x, cube in enumerate(row) if cube == \"#\"}\n",
    "    def get_neighbours(coord4d):\n",
    "        w, x, y, z = coord4d\n",
    "        return {(i, j, k, l) for i in (w-1, w, w+1) for j in (x-1, x, x+1) for k in (y-1, y, y+1) for l in (z-1, z, z+1)}\n",
    "\n",
    "    def get_next_cube_state(coord4d):\n",
    "        active_neighbours_count = len([neighbour for neighbour in get_neighbours(coord4d) if neighbour in active_cubes and neighbour != coord4d])\n",
    "        return active_neighbours_count == 3 or (active_neighbours_count == 2 and coord4d in active_cubes)\n",
    "\n",
    "    for i in range(6):\n",
    "        active_cubes = {neighbour for cube in active_cubes for neighbour in get_neighbours(cube) if get_next_cube_state(neighbour)}\n",
    "    return len(active_cubes)\n",
    "\n",
    "# Unit test\n",
    "\n",
    "# After the full six-cycle boot process completes, 848 cubes are left in the active state.\n",
    "\n",
    "part2([\n",
    "\".#.\",\n",
    "\"..#\",\n",
    "\"###\"]) == 848\n"
   ]
  },
  {
   "cell_type": "code",
   "execution_count": 5,
   "metadata": {},
   "outputs": [
    {
     "output_type": "stream",
     "name": "stdout",
     "text": [
      "Wall time: 10.9 s\n"
     ]
    },
    {
     "output_type": "execute_result",
     "data": {
      "text/plain": [
       "2308"
      ]
     },
     "metadata": {},
     "execution_count": 5
    }
   ],
   "source": [
    "%time part2(my_input)\n"
   ]
  }
 ]
}
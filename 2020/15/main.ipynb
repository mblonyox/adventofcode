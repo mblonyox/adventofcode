{
 "metadata": {
  "language_info": {
   "codemirror_mode": {
    "name": "ipython",
    "version": 3
   },
   "file_extension": ".py",
   "mimetype": "text/x-python",
   "name": "python",
   "nbconvert_exporter": "python",
   "pygments_lexer": "ipython3",
   "version": "3.8.5-final"
  },
  "orig_nbformat": 2,
  "kernelspec": {
   "name": "python3",
   "display_name": "Python 3",
   "language": "python"
  }
 },
 "nbformat": 4,
 "nbformat_minor": 2,
 "cells": [
  {
   "source": [
    "# Day 15: Rambunctious Recitation\n",
    "---\n",
    "Hari ini inputnya gak perlu di file yang terpisah."
   ],
   "cell_type": "markdown",
   "metadata": {}
  },
  {
   "cell_type": "code",
   "execution_count": 1,
   "metadata": {},
   "outputs": [],
   "source": [
    "inputs = [18,8,0,5,4,1,20]"
   ]
  },
  {
   "source": [
    "---\n",
    "## Part 1\n",
    "Hanya gunakan ```while``` loop saja. Sering salah ketika menentukan kapan harus menyimpan nilainya ke dalam memo."
   ],
   "cell_type": "markdown",
   "metadata": {}
  },
  {
   "cell_type": "code",
   "execution_count": 2,
   "metadata": {},
   "outputs": [
    {
     "output_type": "stream",
     "name": "stdout",
     "text": [
      "Wall time: 1e+03 µs\n"
     ]
    },
    {
     "output_type": "execute_result",
     "data": {
      "text/plain": [
       "253"
      ]
     },
     "metadata": {},
     "execution_count": 2
    }
   ],
   "source": [
    "def part1(inp):\n",
    "    memo = dict()\n",
    "    spoken = None\n",
    "    i = 0\n",
    "    while i < 2020:\n",
    "        prev = spoken\n",
    "        if i < len(inp):\n",
    "            spoken = inp[i]\n",
    "        else:\n",
    "            spoken = i - memo.get(prev, i)\n",
    "        memo[prev] = i\n",
    "        i += 1\n",
    "    return spoken\n",
    "\n",
    "%time part1(inputs)"
   ]
  },
  {
   "source": [
    "---\n",
    "## Part 2\n",
    "Malas melakukan optimalisasi karena bisa berjalan dalam 20-an detik."
   ],
   "cell_type": "markdown",
   "metadata": {}
  },
  {
   "source": [
    "def part2(inp):\n",
    "    memo = dict()\n",
    "    spoken = None\n",
    "    i = 0\n",
    "    while i < 30_000_000:\n",
    "        prev = spoken\n",
    "        if i < len(inp):\n",
    "            spoken = inp[i]\n",
    "        else:\n",
    "            spoken = i - memo.get(prev, i)\n",
    "        memo[prev] = i\n",
    "        i += 1\n",
    "    return spoken\n",
    "\n",
    "%time part2(inputs)"
   ],
   "cell_type": "code",
   "metadata": {},
   "execution_count": 3,
   "outputs": [
    {
     "output_type": "stream",
     "name": "stdout",
     "text": [
      "Wall time: 21 s\n"
     ]
    },
    {
     "output_type": "execute_result",
     "data": {
      "text/plain": [
       "13710"
      ]
     },
     "metadata": {},
     "execution_count": 3
    }
   ]
  }
 ]
}
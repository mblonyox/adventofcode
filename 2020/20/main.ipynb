{
 "metadata": {
  "language_info": {
   "codemirror_mode": {
    "name": "ipython",
    "version": 3
   },
   "file_extension": ".py",
   "mimetype": "text/x-python",
   "name": "python",
   "nbconvert_exporter": "python",
   "pygments_lexer": "ipython3",
   "version": "3.8.5-final"
  },
  "orig_nbformat": 2,
  "kernelspec": {
   "name": "python3",
   "display_name": "Python 3",
   "language": "python"
  }
 },
 "nbformat": 4,
 "nbformat_minor": 2,
 "cells": [
  {
   "cell_type": "code",
   "execution_count": 1,
   "metadata": {},
   "outputs": [],
   "source": [
    "my_input = None\n",
    "with open(\"input.txt\") as file:\n",
    "    my_input = file.read()"
   ]
  },
  {
   "cell_type": "code",
   "execution_count": 2,
   "metadata": {},
   "outputs": [],
   "source": [
    "import math\n",
    "\n",
    "def parse_tile(tile_str):\n",
    "    tile = tile_str.strip().split(\"\\n\")\n",
    "    tile_id = int(tile[0][5:-1])\n",
    "    tile_data = tuple(tile[1:])\n",
    "    return tile_id, tile_data\n",
    "\n",
    "def parse_input(input_str):\n",
    "    tiles_str = input_str.strip().split(\"\\n\\n\")\n",
    "    tiles = {tile_id: tile_data for tile_id, tile_data in (parse_tile(tile_str) for tile_str in tiles_str)}\n",
    "    return tiles\n",
    "\n",
    "def get_tile_edges(tile_data):\n",
    "    edges = tuple([tile_data[0], \"\".join(row[-1] for row in tile_data), tile_data[-1], \"\".join(row[0] for row in tile_data)])\n",
    "    return edges + tuple(edge[::-1] for edge in edges)\n",
    "\n",
    "def map_tile_edges(tiles):\n",
    "    edges_map = dict()\n",
    "    for tile_id, tile_data in tiles.items():\n",
    "        for edge in get_tile_edges(tile_data):\n",
    "            if edge in edges_map:\n",
    "                edges_map[edge] += [tile_id]\n",
    "            else:\n",
    "                edges_map[edge] = [tile_id]\n",
    "    return edges_map\n"
   ]
  },
  {
   "cell_type": "code",
   "execution_count": 3,
   "metadata": {},
   "outputs": [
    {
     "output_type": "stream",
     "name": "stdout",
     "text": [
      "Wall time: 3 ms\n"
     ]
    },
    {
     "output_type": "execute_result",
     "data": {
      "text/plain": [
       "51214443014783"
      ]
     },
     "metadata": {},
     "execution_count": 3
    }
   ],
   "source": [
    "def part1(input_str):\n",
    "    tiles = parse_input(input_str)  \n",
    "    edges_map = map_tile_edges(tiles)\n",
    "    edges_tile_id = [tiles[0] for tiles in edges_map.values() if len(tiles) == 1]\n",
    "    corners_tile_id = {tile_id for tile_id in edges_tile_id if edges_tile_id.count(tile_id) == 4}\n",
    "    return math.prod(corners_tile_id)\n",
    "\n",
    "%time part1(my_input)"
   ]
  },
  {
   "cell_type": "code",
   "execution_count": 28,
   "metadata": {},
   "outputs": [
    {
     "output_type": "execute_result",
     "data": {
      "text/plain": [
       "2065"
      ]
     },
     "metadata": {},
     "execution_count": 28
    }
   ],
   "source": [
    "tiles = parse_input(my_input)\n",
    "edges_map = map_tile_edges(tiles)\n",
    "edges_tile_id = tuple(tiles[0] for tiles in edges_map.values() if len(tiles) == 1)\n",
    "corners_tile_id = {tile_id for tile_id in edges_tile_id if edges_tile_id.count(tile_id) == 4}\n",
    "\n",
    "# Constant variable untuk arah penyusunan (direction) potongan gambar.\n",
    "\n",
    "up = 0\n",
    "right = 1\n",
    "down = 2\n",
    "left = 3\n",
    "\n",
    "# Map dictionary untuk transpose potongan gambar.\n",
    "\n",
    "transpose = {\n",
    "        \"e\": lambda x: x,\n",
    "        \"r1\": lambda x: tuple(\"\".join(row) for row in zip(*x[::-1])),\n",
    "        \"r2\": lambda x: tuple(\"\".join(row[::-1]) for row in x[::-1]),\n",
    "        \"r3\": lambda x: tuple(\"\".join(row) for row in zip(*(row[::-1] for row in x))),\n",
    "        \"h\": lambda x: tuple(x[::-1]),\n",
    "        \"v\": lambda x: tuple(\"\".join(row[::-1]) for row in x),\n",
    "        \"d1\": lambda x: tuple(\"\".join(row) for row in zip(*x)),\n",
    "        \"d2\": lambda x: tuple(\"\".join(row) for row in zip(*(row[::-1] for row in x[::-1])))\n",
    "    }\n",
    "\n",
    "# Fungsi untuk membantu mengubah posisi selanjutnya.\n",
    "\n",
    "def move_position(position, direction):\n",
    "    row, col = position\n",
    "    if direction == up:\n",
    "        return (row - 1, col)\n",
    "    if direction == right:\n",
    "        return (row , col + 1)\n",
    "    if direction == down:\n",
    "        return (row + 1, col)\n",
    "    if direction == left:\n",
    "        return (row , col - 1)\n",
    "\n",
    "# Fungsi untuk melakukan transpose potongan gambar hingga sesuai dengan potongan gambar sebelumnya.\n",
    "\n",
    "def transpose_tile_fit(tile_data, edge, direction):\n",
    "    opp_direction = (direction + 2) % 4\n",
    "    for t in transpose:\n",
    "        t_tile_data = transpose[t](tile_data)\n",
    "        if get_tile_edges(t_tile_data)[opp_direction] == edge:\n",
    "            return t_tile_data\n",
    "\n",
    "# Fungsi untuk menghilangkan pinggiran dari potongan gambar.\n",
    "\n",
    "def strip_tile_edge(tile_data):\n",
    "    return tuple(row[1:-1] for row in tile_data[1:-1])\n",
    "\n",
    "# Memetakan posisi potongan gambar dimulai dengan salah satu potongan gambar yang ada di sudut.\n",
    "\n",
    "position = (0, 0)\n",
    "direction = up\n",
    "current_tile_id = list(corners_tile_id)[0]\n",
    "tile_data = tiles[current_tile_id]\n",
    "positioned_tile = {position: strip_tile_edge(tile_data)}\n",
    "used_tile_id = [current_tile_id]\n",
    "retry_count = 0\n",
    "while True:\n",
    "    edge = get_tile_edges(tile_data)[direction]\n",
    "    next_tile_id = [x for x in edges_map[edge] if not x in used_tile_id]\n",
    "    if not next_tile_id:\n",
    "        direction = (direction + 1) % 4\n",
    "        retry_count += 1\n",
    "        if retry_count >= 4:\n",
    "            break\n",
    "        continue\n",
    "    retry_count = 0\n",
    "    current_tile_id = next_tile_id[0]\n",
    "    tile_data = transpose_tile_fit(tiles[current_tile_id], edge, direction)\n",
    "    position = move_position(position, direction)\n",
    "    positioned_tile[position] = strip_tile_edge(tile_data)\n",
    "    used_tile_id.append(current_tile_id)\n",
    "\n",
    "# Menggabungan semua potongan gambar menjadi satu\n",
    "\n",
    "min_row = min(row for row, col in positioned_tile)\n",
    "max_row = max(row for row, col in positioned_tile)\n",
    "min_col = min(col for row, col in positioned_tile)\n",
    "max_col = max(col for row, col in positioned_tile)\n",
    "combined_tile_data = ()\n",
    "for row in range(min_row, max_row + 1):\n",
    "    arr = None\n",
    "    for col in range(min_col, max_col + 1):\n",
    "        tile_data = positioned_tile[(row, col)]\n",
    "        if arr == None :\n",
    "            arr = tile_data\n",
    "        else:\n",
    "            arr = tuple( arr[i] + tile_data[i] for i in range(len(arr)))\n",
    "    combined_tile_data += arr\n",
    "\n",
    "combined_tile_data\n",
    "combined_rows_count = len(combined_tile_data)\n",
    "combined_cols_count = len(combined_tile_data[0])\n",
    "combined_sharps_count = \"\\n\".join(combined_tile_data).count(\"#\")\n",
    "\n",
    "pattern = [\n",
    "\"                  # \",\n",
    "\"#    ##    ##    ###\",\n",
    "\" #  #  #  #  #  #   \",\n",
    "]\n",
    "pattern_rows_count = len(pattern)\n",
    "pattern_cols_count = len(pattern[0])\n",
    "pattern_sharps_count = \"\\n\".join(pattern).count(\"#\")\n",
    "pattern_pos = [(y, x) for y in range(pattern_rows_count) for x in range(pattern_cols_count) if pattern[y][x] == \"#\"]\n",
    "\n",
    "found_monster_count = 0\n",
    "for t in transpose:\n",
    "    t_combined_tile_data = transpose[t](combined_tile_data)\n",
    "    for i in range(combined_rows_count - pattern_rows_count):\n",
    "        for j in range(combined_cols_count - pattern_cols_count):\n",
    "            if all(t_combined_tile_data[i+y][j+x] == \"#\" for y, x in pattern_pos):\n",
    "                found_monster_count += 1\n",
    "    if found_monster_count:\n",
    "        break\n",
    "\n",
    "combined_sharps_count - (found_monster_count * pattern_sharps_count)\n"
   ]
  }
 ]
}
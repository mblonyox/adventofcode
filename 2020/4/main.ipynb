{
 "metadata": {
  "language_info": {
   "codemirror_mode": {
    "name": "ipython",
    "version": 3
   },
   "file_extension": ".py",
   "mimetype": "text/x-python",
   "name": "python",
   "nbconvert_exporter": "python",
   "pygments_lexer": "ipython3",
   "version": "3.8.1-final"
  },
  "orig_nbformat": 2,
  "kernelspec": {
   "name": "python3",
   "display_name": "Python 3"
  }
 },
 "nbformat": 4,
 "nbformat_minor": 2,
 "cells": [
  {
   "source": [
    "# Day 4: Passport Processing\n",
    "---\n",
    "\n",
    "**TIL** : fungsi ```open``` akan membuat *file descriptor* yang harus ditutup setelah *file* selesai dibaca. Nah dengan *statement* ``` with ... as ...: ``` Python akan otomatis menutup setelah operasi di dalam *scope* tersebut selesai."
   ],
   "cell_type": "markdown",
   "metadata": {}
  },
  {
   "cell_type": "code",
   "execution_count": 1,
   "metadata": {
    "tags": []
   },
   "outputs": [
    {
     "output_type": "execute_result",
     "data": {
      "text/plain": [
       "['pid:827837505 byr:1976',\n",
       " 'hgt:187cm',\n",
       " 'iyr:2016',\n",
       " 'hcl:#fffffd',\n",
       " 'eyr:2024',\n",
       " '',\n",
       " 'hgt:189cm byr:1987 pid:572028668 iyr:2014 hcl:#623a2f',\n",
       " 'eyr:2028 ecl:amb',\n",
       " '',\n",
       " 'pid:#e9bf38 hcl:z iyr:2029 byr:2028 ecl:#18f71a hgt:174in eyr:2036']"
      ]
     },
     "metadata": {},
     "execution_count": 1
    }
   ],
   "source": [
    "inputs = []\n",
    "with open(\"input.txt\") as file:\n",
    "    inputs = [line.strip() for line in file]\n",
    "\n",
    "inputs[:10]\n"
   ]
  },
  {
   "source": [
    "---\n",
    "Dengan menggunakan Dictionary di Python kita bisa menyimpan pasangan kunci dan nilai ke dalam satu objek."
   ],
   "cell_type": "markdown",
   "metadata": {}
  },
  {
   "cell_type": "code",
   "execution_count": 2,
   "metadata": {},
   "outputs": [
    {
     "output_type": "execute_result",
     "data": {
      "text/plain": [
       "[{'pid': '827837505',\n",
       "  'byr': '1976',\n",
       "  'hgt': '187cm',\n",
       "  'iyr': '2016',\n",
       "  'hcl': '#fffffd',\n",
       "  'eyr': '2024'},\n",
       " {'hgt': '189cm',\n",
       "  'byr': '1987',\n",
       "  'pid': '572028668',\n",
       "  'iyr': '2014',\n",
       "  'hcl': '#623a2f',\n",
       "  'eyr': '2028',\n",
       "  'ecl': 'amb'}]"
      ]
     },
     "metadata": {},
     "execution_count": 2
    }
   ],
   "source": [
    "def parseFields(string):\n",
    "    return dict([pair.split(\":\") for pair in string.split(\" \")])\n",
    "\n",
    "passports = []\n",
    "passport = {}\n",
    "for line in inputs:\n",
    "    if line == \"\":\n",
    "        passports.append(passport)\n",
    "        passport = {}\n",
    "    else:\n",
    "        passport.update(parseFields(line))\n",
    "passports.append(passport)\n",
    "\n",
    "passports[:2]"
   ]
  },
  {
   "source": [
    "## Part 1\n",
    "Bagian pertama hanya mengecek apakah field yang diwajibkan telah ada di masing-masing *passport*."
   ],
   "cell_type": "markdown",
   "metadata": {}
  },
  {
   "cell_type": "code",
   "execution_count": 3,
   "metadata": {},
   "outputs": [
    {
     "output_type": "execute_result",
     "data": {
      "text/plain": [
       "228"
      ]
     },
     "metadata": {},
     "execution_count": 3
    }
   ],
   "source": [
    "def checkValidPassport(passport, requiredFields = []):\n",
    "    for field in requiredFields:\n",
    "        if not field in passport:\n",
    "            return False\n",
    "    return True\n",
    "\n",
    "part1Fields = [\"byr\", \"iyr\", \"eyr\", \"hgt\", \"hcl\", \"ecl\", \"pid\"]\n",
    "validPassports = []\n",
    "for passport in passports:\n",
    "    if checkValidPassport(passport, part1Fields):\n",
    "        validPassports.append(passport)\n",
    "len(validPassports)"
   ]
  },
  {
   "source": [
    "## Part 2\n",
    "Bagian kedua mengecek keabsahan data di dalam masing-masing field. Di solusi ini saya menggunakan *lambda* untuk melakukan validasi.\n",
    "\n",
    "> Hidup one-liner sejati!"
   ],
   "cell_type": "markdown",
   "metadata": {}
  },
  {
   "cell_type": "code",
   "execution_count": 4,
   "metadata": {},
   "outputs": [
    {
     "output_type": "execute_result",
     "data": {
      "text/plain": [
       "175"
      ]
     },
     "metadata": {},
     "execution_count": 4
    }
   ],
   "source": [
    "import re\n",
    "\n",
    "def checkValidData(passport, rules = []):\n",
    "    for (key, rule) in rules:\n",
    "        if not key in passport:\n",
    "            return False\n",
    "        if not rule(passport[key]):\n",
    "            return False\n",
    "    return True\n",
    "\n",
    "rulesPart2 = [\n",
    "    (\"byr\", lambda x: 1920 <= int(x) <= 2002),\n",
    "    (\"iyr\", lambda x: 2010 <= int(x) <= 2020),\n",
    "    (\"eyr\", lambda x: 2020 <= int(x) <= 2030),\n",
    "    (\"hgt\", lambda x: 150 <= int(x[:-2]) <= 193 if x[-2:] == \"cm\" else 59 <= int(x[:-2]) <= 76 if x[-2:] == \"in\" else False),\n",
    "    (\"hcl\", lambda x: bool(re.match(r\"^#[0-9a-f]{6}$\", x))),\n",
    "    (\"ecl\", lambda x: x in [\"amb\", \"blu\", \"brn\", \"gry\", \"grn\", \"hzl\", \"oth\"]),\n",
    "    (\"pid\", lambda x: bool(re.match(r\"^[0-9]{9}$\", x)))\n",
    "]\n",
    "\n",
    "validDataPassport = []\n",
    "for passport in passports:\n",
    "    if checkValidData(passport, rulesPart2):\n",
    "        validDataPassport.append(passport)\n",
    "\n",
    "len(validDataPassport)"
   ]
  }
 ]
}
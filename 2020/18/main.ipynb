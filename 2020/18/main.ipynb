{
 "metadata": {
  "language_info": {
   "codemirror_mode": {
    "name": "ipython",
    "version": 3
   },
   "file_extension": ".py",
   "mimetype": "text/x-python",
   "name": "python",
   "nbconvert_exporter": "python",
   "pygments_lexer": "ipython3",
   "version": "3.8.5-final"
  },
  "orig_nbformat": 2,
  "kernelspec": {
   "name": "python3",
   "display_name": "Python 3",
   "language": "python"
  }
 },
 "nbformat": 4,
 "nbformat_minor": 2,
 "cells": [
  {
   "source": [
    "# Day 18: Operation Order\n",
    "---\n",
    "Pertama kali yang terpikirkan ketika melihat soal ini, aku langsung ingat *Abstract Syntax Tree (AST)* di JavaScript. Tapi gak pernah tau cara kerja *parser* ato *tokenizer*. Kesempatan kali ini jadi tahu kalo ada yang namanya **Reverse Polish Notation (RPN)* yang sangat tidak lazim kita lihat dalam ekspresi matematika."
   ],
   "cell_type": "markdown",
   "metadata": {}
  },
  {
   "cell_type": "code",
   "execution_count": 1,
   "metadata": {},
   "outputs": [],
   "source": [
    "my_input = None\n",
    "with open(\"input.txt\") as file:\n",
    "    my_input = [line.strip() for line in file]\n"
   ]
  },
  {
   "source": [
    "Karena keterbatasan local variabel akses kalo dibuat dalam satu fungsi, aku buat dalam sebuah class yang bisa diatur opsi *precedence* operatornya."
   ],
   "cell_type": "markdown",
   "metadata": {}
  },
  {
   "cell_type": "code",
   "execution_count": 2,
   "metadata": {},
   "outputs": [],
   "source": [
    "class Evaluator:\n",
    "\n",
    "    def __init__(self, precedence={\"+\": 2, \"*\": 2}):\n",
    "        self.precedence = precedence\n",
    "\n",
    "    def check_precedence(self, op):\n",
    "        _op = self.operators[-1]\n",
    "        if _op == \"(\":\n",
    "            return False\n",
    "        return self.precedence[_op] >= self.precedence[op]\n",
    "\n",
    "    def apply_operator(self, op):\n",
    "        if len(self.outputs) > 1:\n",
    "            a, b = self.outputs[-2:]\n",
    "            if op == \"+\":\n",
    "                self.outputs = self.outputs[:-2] + [a + b]\n",
    "            if op == \"*\":\n",
    "                self.outputs = self.outputs[:-2] + [a * b]\n",
    "\n",
    "    def evaluate(self, expression):\n",
    "        self.outputs = []\n",
    "        self.operators = []\n",
    "\n",
    "        for char in expression:\n",
    "            if char.isdigit():\n",
    "                self.outputs.append(int(char))\n",
    "            if char in \"+*\":\n",
    "                while self.operators and self.check_precedence(char) :\n",
    "                    self.apply_operator(self.operators.pop())\n",
    "                self.operators.append(char)\n",
    "            if char == \"(\":\n",
    "                self.operators.append(char)\n",
    "            if char == \")\":\n",
    "                while True:\n",
    "                    op = self.operators.pop()\n",
    "                    if op == \"(\":\n",
    "                        break\n",
    "                    else:\n",
    "                        self.apply_operator(op)\n",
    "        while self.operators:\n",
    "            self.apply_operator(self.operators.pop())\n",
    "        \n",
    "        return self.outputs.pop()"
   ]
  },
  {
   "source": [
    "---\n",
    "## Part 1\n",
    "Bagian pertama dan kedua sama-sama menggunakan algoritma yang sama: [Shunting-yard Algorithm](https://en.wikipedia.org/wiki/Shunting-yard_algorithm)."
   ],
   "cell_type": "markdown",
   "metadata": {}
  },
  {
   "cell_type": "code",
   "execution_count": 3,
   "metadata": {},
   "outputs": [
    {
     "output_type": "execute_result",
     "data": {
      "text/plain": [
       "True"
      ]
     },
     "metadata": {},
     "execution_count": 3
    }
   ],
   "source": [
    "eva1 = Evaluator()\n",
    "\n",
    "eva1.evaluate(\"1 + 2 * 3 + 4 * 5 + 6\") == 71"
   ]
  },
  {
   "cell_type": "code",
   "execution_count": 4,
   "metadata": {},
   "outputs": [
    {
     "output_type": "execute_result",
     "data": {
      "text/plain": [
       "True"
      ]
     },
     "metadata": {},
     "execution_count": 4
    }
   ],
   "source": [
    "# 2 * 3 + (4 * 5) becomes 26.\n",
    "\n",
    "eva1.evaluate(\"2 * 3 + (4 * 5)\") == 26"
   ]
  },
  {
   "cell_type": "code",
   "execution_count": 5,
   "metadata": {},
   "outputs": [
    {
     "output_type": "execute_result",
     "data": {
      "text/plain": [
       "True"
      ]
     },
     "metadata": {},
     "execution_count": 5
    }
   ],
   "source": [
    "# 5 + (8 * 3 + 9 + 3 * 4 * 3) becomes 437.\n",
    "\n",
    "eva1.evaluate(\"5 + (8 * 3 + 9 + 3 * 4 * 3)\") == 437"
   ]
  },
  {
   "cell_type": "code",
   "execution_count": 6,
   "metadata": {},
   "outputs": [
    {
     "output_type": "execute_result",
     "data": {
      "text/plain": [
       "True"
      ]
     },
     "metadata": {},
     "execution_count": 6
    }
   ],
   "source": [
    "# 5 * 9 * (7 * 3 * 3 + 9 * 3 + (8 + 6 * 4)) becomes 12240\n",
    "\n",
    "eva1.evaluate(\"5 * 9 * (7 * 3 * 3 + 9 * 3 + (8 + 6 * 4))\") == 12240"
   ]
  },
  {
   "cell_type": "code",
   "execution_count": 7,
   "metadata": {},
   "outputs": [
    {
     "output_type": "execute_result",
     "data": {
      "text/plain": [
       "True"
      ]
     },
     "metadata": {},
     "execution_count": 7
    }
   ],
   "source": [
    "# ((2 + 4 * 9) * (6 + 9 * 8 + 6) + 6) + 2 + 4 * 2 becomes 13632.\n",
    "\n",
    "eva1.evaluate(\"((2 + 4 * 9) * (6 + 9 * 8 + 6) + 6) + 2 + 4 * 2\") == 13632"
   ]
  },
  {
   "cell_type": "code",
   "execution_count": 8,
   "metadata": {},
   "outputs": [
    {
     "output_type": "stream",
     "name": "stdout",
     "text": [
      "Wall time: 15 ms\n"
     ]
    },
    {
     "output_type": "execute_result",
     "data": {
      "text/plain": [
       "16332191652452"
      ]
     },
     "metadata": {},
     "execution_count": 8
    }
   ],
   "source": [
    "def part1(inp):\n",
    "    eva = Evaluator()\n",
    "    return sum(eva.evaluate(line) for line in inp)\n",
    "\n",
    "%time part1(my_input)"
   ]
  },
  {
   "source": [
    "---\n",
    "## Part 2\n",
    "Bagian kedua hanya mengubah pengaturan *Precedence* dalam objek ```Evaluator```."
   ],
   "cell_type": "markdown",
   "metadata": {}
  },
  {
   "cell_type": "code",
   "execution_count": 9,
   "metadata": {},
   "outputs": [
    {
     "output_type": "execute_result",
     "data": {
      "text/plain": [
       "True"
      ]
     },
     "metadata": {},
     "execution_count": 9
    }
   ],
   "source": [
    "eva2 = Evaluator(precedence={\"+\": 3, \"*\": 2})\n",
    "\n",
    "# 1 + (2 * 3) + (4 * (5 + 6)) still becomes 51.\n",
    "\n",
    "eva2.evaluate(\"1 + (2 * 3) + (4 * (5 + 6))\") == 51"
   ]
  },
  {
   "cell_type": "code",
   "execution_count": 10,
   "metadata": {},
   "outputs": [
    {
     "output_type": "execute_result",
     "data": {
      "text/plain": [
       "True"
      ]
     },
     "metadata": {},
     "execution_count": 10
    }
   ],
   "source": [
    "# 2 * 3 + (4 * 5) becomes 46.\n",
    "\n",
    "eva2.evaluate(\"2 * 3 + (4 * 5)\") == 46"
   ]
  },
  {
   "cell_type": "code",
   "execution_count": 11,
   "metadata": {},
   "outputs": [
    {
     "output_type": "execute_result",
     "data": {
      "text/plain": [
       "True"
      ]
     },
     "metadata": {},
     "execution_count": 11
    }
   ],
   "source": [
    "# 5 + (8 * 3 + 9 + 3 * 4 * 3) becomes 1445.\n",
    "\n",
    "eva2.evaluate(\"5 + (8 * 3 + 9 + 3 * 4 * 3)\") == 1445"
   ]
  },
  {
   "cell_type": "code",
   "execution_count": 12,
   "metadata": {},
   "outputs": [
    {
     "output_type": "execute_result",
     "data": {
      "text/plain": [
       "True"
      ]
     },
     "metadata": {},
     "execution_count": 12
    }
   ],
   "source": [
    "# 5 * 9 * (7 * 3 * 3 + 9 * 3 + (8 + 6 * 4)) becomes 669060.\n",
    "\n",
    "eva2.evaluate(\"5 * 9 * (7 * 3 * 3 + 9 * 3 + (8 + 6 * 4))\") == 669060"
   ]
  },
  {
   "cell_type": "code",
   "execution_count": 13,
   "metadata": {},
   "outputs": [
    {
     "output_type": "execute_result",
     "data": {
      "text/plain": [
       "True"
      ]
     },
     "metadata": {},
     "execution_count": 13
    }
   ],
   "source": [
    "# ((2 + 4 * 9) * (6 + 9 * 8 + 6) + 6) + 2 + 4 * 2 becomes 23340.\n",
    "\n",
    "eva2.evaluate(\"((2 + 4 * 9) * (6 + 9 * 8 + 6) + 6) + 2 + 4 * 2\") == 23340"
   ]
  },
  {
   "cell_type": "code",
   "execution_count": 14,
   "metadata": {},
   "outputs": [
    {
     "output_type": "stream",
     "name": "stdout",
     "text": [
      "Wall time: 13 ms\n"
     ]
    },
    {
     "output_type": "execute_result",
     "data": {
      "text/plain": [
       "351175492232654"
      ]
     },
     "metadata": {},
     "execution_count": 14
    }
   ],
   "source": [
    "def part2(inp):\n",
    "    eva = Evaluator(precedence={\"+\": 3, \"*\": 2})\n",
    "    return sum(eva.evaluate(line) for line in inp)\n",
    "\n",
    "%time part2(my_input)"
   ]
  }
 ]
}
{
 "metadata": {
  "language_info": {
   "codemirror_mode": {
    "name": "ipython",
    "version": 3
   },
   "file_extension": ".py",
   "mimetype": "text/x-python",
   "name": "python",
   "nbconvert_exporter": "python",
   "pygments_lexer": "ipython3",
   "version": "3.8.5-final"
  },
  "orig_nbformat": 2,
  "kernelspec": {
   "name": "python3",
   "display_name": "Python 3",
   "language": "python"
  }
 },
 "nbformat": 4,
 "nbformat_minor": 2,
 "cells": [
  {
   "cell_type": "code",
   "execution_count": 1,
   "metadata": {},
   "outputs": [],
   "source": [
    "my_input = None\n",
    "with open(\"input.txt\") as file:\n",
    "    my_input = [line.strip() for line in file]"
   ]
  },
  {
   "cell_type": "code",
   "execution_count": 2,
   "metadata": {},
   "outputs": [
    {
     "output_type": "execute_result",
     "data": {
      "text/plain": [
       "{'nuts': {'fvk', 'rhvbn'},\n",
       " 'wheat': {'fvk', 'rhvbn', 'zrb'},\n",
       " 'fish': {'kjf', 'zrb'},\n",
       " 'shellfish': {'fvk', 'jgtb'},\n",
       " 'dairy': {'rhvbn'},\n",
       " 'sesame': {'lbmt', 'zrb'},\n",
       " 'soy': {'fvk', 'hcbdb', 'mmcpg'},\n",
       " 'eggs': {'fvk', 'jgtb', 'mmcpg', 'rhvbn'}}"
      ]
     },
     "metadata": {},
     "execution_count": 2
    }
   ],
   "source": [
    "all_ingredients = tuple()\n",
    "narrowed = dict()\n",
    "for line in my_input:\n",
    "    str1, str2 = line.split(\" (contains \")\n",
    "    ingredients = tuple(ingredient for ingredient in str1.strip().split(\" \"))\n",
    "    allergens = tuple(allergen for allergen in str2.strip(\")\").split(\", \"))\n",
    "    all_ingredients += ingredients\n",
    "    for allergen in allergens:\n",
    "        if allergen in narrowed:\n",
    "            narrowed[allergen] &= set(ingredients)\n",
    "        else:\n",
    "            narrowed[allergen] = set(ingredients)\n",
    "\n",
    "narrowed"
   ]
  },
  {
   "cell_type": "code",
   "execution_count": 3,
   "metadata": {},
   "outputs": [
    {
     "output_type": "execute_result",
     "data": {
      "text/plain": [
       "{'dairy': 'rhvbn',\n",
       " 'nuts': 'fvk',\n",
       " 'wheat': 'zrb',\n",
       " 'fish': 'kjf',\n",
       " 'shellfish': 'jgtb',\n",
       " 'sesame': 'lbmt',\n",
       " 'eggs': 'mmcpg',\n",
       " 'soy': 'hcbdb'}"
      ]
     },
     "metadata": {},
     "execution_count": 3
    }
   ],
   "source": [
    "identified = dict()\n",
    "while True:\n",
    "    stop = True\n",
    "    for allergen in narrowed:\n",
    "        ingredients = set(narrowed[allergen])\n",
    "        if bool(ingredients) and len(ingredients) == 1:\n",
    "            identified[allergen] = list(ingredients)[0]\n",
    "            for k in narrowed:\n",
    "                narrowed[k] -= ingredients\n",
    "            stop = False\n",
    "    if stop:\n",
    "        break\n",
    "\n",
    "identified"
   ]
  },
  {
   "cell_type": "code",
   "execution_count": 5,
   "metadata": {},
   "outputs": [
    {
     "output_type": "execute_result",
     "data": {
      "text/plain": [
       "2517"
      ]
     },
     "metadata": {},
     "execution_count": 5
    }
   ],
   "source": [
    "sum(all_ingredients.count(ingredient) for ingredient in set(all_ingredients) if not ingredient in identified.values())"
   ]
  },
  {
   "cell_type": "code",
   "execution_count": 8,
   "metadata": {},
   "outputs": [
    {
     "output_type": "execute_result",
     "data": {
      "text/plain": [
       "'rhvbn,mmcpg,kjf,fvk,lbmt,jgtb,hcbdb,zrb'"
      ]
     },
     "metadata": {},
     "execution_count": 8
    }
   ],
   "source": [
    "\",\".join(ingredient for _, ingredient in sorted(identified.items()))"
   ]
  }
 ]
}
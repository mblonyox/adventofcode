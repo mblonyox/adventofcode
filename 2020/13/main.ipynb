{
 "metadata": {
  "language_info": {
   "codemirror_mode": {
    "name": "ipython",
    "version": 3
   },
   "file_extension": ".py",
   "mimetype": "text/x-python",
   "name": "python",
   "nbconvert_exporter": "python",
   "pygments_lexer": "ipython3",
   "version": "3.8.1-final"
  },
  "orig_nbformat": 2,
  "kernelspec": {
   "name": "python3",
   "display_name": "Python 3",
   "language": "python"
  }
 },
 "nbformat": 4,
 "nbformat_minor": 2,
 "cells": [
  {
   "source": [
    "# Day 13: Shuttle Search\n",
    "---\n",
    "Bagian kedua susah banget. Sampai belajar tentang *euclidean* dan masih gak paham."
   ],
   "cell_type": "markdown",
   "metadata": {}
  },
  {
   "cell_type": "code",
   "execution_count": 1,
   "metadata": {},
   "outputs": [
    {
     "output_type": "execute_result",
     "data": {
      "text/plain": [
       "'1007268\\n17,x,x,x,x,x'"
      ]
     },
     "metadata": {},
     "execution_count": 1
    }
   ],
   "source": [
    "inputs = None\n",
    "with open(\"input.txt\") as file:\n",
    "    inputs = file.read()\n",
    "\n",
    "inputs[:20]"
   ]
  },
  {
   "source": [
    "---\n",
    "## Part 1\n",
    "Bagian pertama sangat mudah sekali dengan menggunakan *negative remainder* di python kita cari nilai negatif yang paling besar dari semua bus yang aktif."
   ],
   "cell_type": "markdown",
   "metadata": {}
  },
  {
   "cell_type": "code",
   "execution_count": 2,
   "metadata": {},
   "outputs": [
    {
     "output_type": "execute_result",
     "data": {
      "text/plain": [
       "True"
      ]
     },
     "metadata": {},
     "execution_count": 2
    }
   ],
   "source": [
    "def part1(inputs):\n",
    "    timestamp, buses = inputs.strip().split(\"\\n\")\n",
    "    timestamp = int(timestamp)\n",
    "    buses_in_service = [int(bus_id) for bus_id in buses.split(\",\") if bus_id != \"x\"]\n",
    "    waiting_time, bus_id = max([(timestamp % -bus_id, bus_id) for bus_id in buses_in_service])\n",
    "    return abs(waiting_time) * bus_id\n",
    "\n",
    "# Unit test\n",
    "# Multiplying the bus ID by the number of minutes you'd need to wait gives 295.\n",
    "\n",
    "part1(\n",
    "\"\"\"\n",
    "939\n",
    "7,13,x,x,59,x,31,19\n",
    "\"\"\"\n",
    "    ) == 295"
   ]
  },
  {
   "cell_type": "code",
   "execution_count": 3,
   "metadata": {},
   "outputs": [
    {
     "output_type": "stream",
     "name": "stdout",
     "text": [
      "Wall time: 0 ns\n"
     ]
    },
    {
     "output_type": "execute_result",
     "data": {
      "text/plain": [
       "6559"
      ]
     },
     "metadata": {},
     "execution_count": 3
    }
   ],
   "source": [
    "%time part1(inputs)"
   ]
  },
  {
   "source": [
    "---\n",
    "## Part 2\n",
    "Bagian kedua benar-benar bikin pusing. Tapi karena semua *Bus ID* ternyata bilangan prima, jadi tidak perlu mencari faktor atau kelipatan persekutuan terkecil."
   ],
   "cell_type": "markdown",
   "metadata": {}
  },
  {
   "cell_type": "code",
   "execution_count": 4,
   "metadata": {},
   "outputs": [
    {
     "output_type": "execute_result",
     "data": {
      "text/plain": [
       "True"
      ]
     },
     "metadata": {},
     "execution_count": 4
    }
   ],
   "source": [
    "def part2(inputs):\n",
    "    buses = inputs.strip().split(\"\\n\")[1].split(\",\")\n",
    "    buses_delay = [(int(bus_id), i) for i, bus_id in enumerate(buses) if bus_id != \"x\"]\n",
    "        \n",
    "    i = timestamp = 0\n",
    "    increment = 1\n",
    "    length = len(buses_delay)\n",
    "    while i < length:\n",
    "        bus_id, delay = buses_delay[i]\n",
    "        if (timestamp + delay) % bus_id == 0:\n",
    "            i += 1\n",
    "            increment *= bus_id\n",
    "        else:\n",
    "            timestamp += increment\n",
    "    return timestamp\n",
    "\n",
    "# Unit test\n",
    "# In this example, the earliest timestamp at which this occurs is 1068781:\n",
    "\n",
    "part2(\n",
    "\"\"\"\n",
    "939\n",
    "7,13,x,x,59,x,31,19\n",
    "\"\"\"\n",
    "    ) == 1068781"
   ]
  },
  {
   "cell_type": "code",
   "execution_count": 5,
   "metadata": {},
   "outputs": [
    {
     "output_type": "stream",
     "name": "stdout",
     "text": [
      "Wall time: 0 ns\n"
     ]
    },
    {
     "output_type": "execute_result",
     "data": {
      "text/plain": [
       "626670513163231"
      ]
     },
     "metadata": {},
     "execution_count": 5
    }
   ],
   "source": [
    "%time part2(inputs)"
   ]
  }
 ]
}
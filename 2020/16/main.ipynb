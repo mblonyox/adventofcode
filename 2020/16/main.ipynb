{
 "metadata": {
  "language_info": {
   "codemirror_mode": {
    "name": "ipython",
    "version": 3
   },
   "file_extension": ".py",
   "mimetype": "text/x-python",
   "name": "python",
   "nbconvert_exporter": "python",
   "pygments_lexer": "ipython3",
   "version": "3.8.1-final"
  },
  "orig_nbformat": 2,
  "kernelspec": {
   "name": "python3",
   "display_name": "Python 3",
   "language": "python"
  }
 },
 "nbformat": 4,
 "nbformat_minor": 2,
 "cells": [
  {
   "source": [
    "# Day 16: Ticket Translation\n",
    "---\n",
    "Hari ini terlalu banyak menggunakan *list comprehension*."
   ],
   "cell_type": "markdown",
   "metadata": {}
  },
  {
   "cell_type": "code",
   "execution_count": 1,
   "metadata": {},
   "outputs": [],
   "source": [
    "my_input = None\n",
    "with open(\"input.txt\") as file:\n",
    "    my_input = file.read()\n"
   ]
  },
  {
   "cell_type": "code",
   "execution_count": 2,
   "metadata": {},
   "outputs": [],
   "source": [
    "def parseInput(input_str):\n",
    "    field_rules, your_ticket, nerby_tickets = input_str.strip().split(\"\\n\\n\")\n",
    "    field_rules = [parseFieldRule(field_rule) for field_rule in field_rules.split(\"\\n\")]\n",
    "    your_ticket = tuple(int(n) for n in your_ticket.split(\"\\n\")[1].split(\",\"))\n",
    "    nerby_tickets = [tuple(int(n) for n in ticket.split(\",\")) for ticket in nerby_tickets.split(\"\\n\")[1:]]\n",
    "    return field_rules, your_ticket, nerby_tickets\n",
    "\n",
    "def parseFieldRule(rule_str):\n",
    "    field, ranges = rule_str.split(\": \")\n",
    "    ranges = [tuple(int(n) for n in r.split(\"-\")) for r in ranges.split(\" or \")]\n",
    "    rules = lambda x: any(_min_ <= x <= _max_ for _min_, _max_ in ranges)\n",
    "    return field, rules"
   ]
  },
  {
   "source": [
    "---\n",
    "## Part 1\n",
    "Bagian pertama cukup sederhana, cukup lakukan loop semua *value* dan lakukan pengecekan dari *field rules*."
   ],
   "cell_type": "markdown",
   "metadata": {}
  },
  {
   "cell_type": "code",
   "execution_count": 3,
   "metadata": {},
   "outputs": [
    {
     "output_type": "execute_result",
     "data": {
      "text/plain": [
       "True"
      ]
     },
     "metadata": {},
     "execution_count": 3
    }
   ],
   "source": [
    "def part1(input_str):\n",
    "    field_rules, _, nearby_tickets = parseInput(input_str)\n",
    "    check_valid_field = lambda value: any(rule(value) for field, rule in field_rules)\n",
    "    invalid_values = [value for ticket in nearby_tickets for value in ticket if not check_valid_field(value)]\n",
    "    return sum(invalid_values)\n",
    "\n",
    "# Unit test\n",
    "\n",
    "test_input1 = \"\"\"\n",
    "class: 1-3 or 5-7\n",
    "row: 6-11 or 33-44\n",
    "seat: 13-40 or 45-50\n",
    "\n",
    "your ticket:\n",
    "7,1,14\n",
    "\n",
    "nearby tickets:\n",
    "7,3,47\n",
    "40,4,50\n",
    "55,2,20\n",
    "38,6,12\n",
    "\"\"\"\n",
    "\n",
    "# In this example, the values on the first nearby ticket are all valid for at least one field. \n",
    "# This is not true of the other three nearby tickets: the values 4, 55, and 12 are are not valid for any field.\n",
    "# Adding together all of the invalid values produces your ticket scanning error rate: 4 + 55 + 12 = 71.\n",
    "\n",
    "part1(test_input1) == 71"
   ]
  },
  {
   "cell_type": "code",
   "execution_count": 4,
   "metadata": {},
   "outputs": [
    {
     "output_type": "stream",
     "name": "stdout",
     "text": [
      "Wall time: 7.99 ms\n"
     ]
    },
    {
     "output_type": "execute_result",
     "data": {
      "text/plain": [
       "21081"
      ]
     },
     "metadata": {},
     "execution_count": 4
    }
   ],
   "source": [
    "%time part1(my_input)"
   ]
  },
  {
   "source": [
    "---\n",
    "# Part 2\n",
    "Bagian kedua kita saring tiket yang valid, kemudian masing-masing *field* cari kemungkinan index yang memenuhi aturannya. Dari kemungkinan index tersebut cari yang paling sesuai, dimulai dengan kemungkinan index yang terkecil."
   ],
   "cell_type": "markdown",
   "metadata": {}
  },
  {
   "cell_type": "code",
   "execution_count": 5,
   "metadata": {},
   "outputs": [
    {
     "output_type": "execute_result",
     "data": {
      "text/plain": [
       "True"
      ]
     },
     "metadata": {},
     "execution_count": 5
    }
   ],
   "source": [
    "import math\n",
    "\n",
    "def part2(input_str, word):\n",
    "    field_rules, your_ticket, nearby_tickets = parseInput(input_str)\n",
    "\n",
    "    # Filter valid tickets\n",
    "    check_valid_ticket = lambda t: all(any(r(v) for _, r in field_rules) for v in t)\n",
    "    valid_tickets = [ticket for ticket in nearby_tickets if check_valid_ticket(ticket)]\n",
    "\n",
    "    # Find all possible valid index for each field\n",
    "    field_indexes = dict()\n",
    "    for field, rule in field_rules:\n",
    "        field_indexes[field] = []\n",
    "        for i in range(len(field_rules)):\n",
    "            if all(rule(ticket[i]) for ticket in valid_tickets):\n",
    "                field_indexes[field] += [i]\n",
    "    \n",
    "    # Find the most possible index by sort the possible indexes\n",
    "    assigned_index = []\n",
    "    field_index = dict()\n",
    "    for field, indexes in sorted(field_indexes.items(), key=lambda item: len(item[1])):\n",
    "        indexes = [index for index in indexes if index not in assigned_index]\n",
    "        assigned_index += indexes\n",
    "        field_index[field] = indexes[0]\n",
    "    \n",
    "    # Return the product of field's value of specified word.\n",
    "    return math.prod(your_ticket[index] for field, index in field_index.items() if field.startswith(word))\n",
    "\n",
    "# Unit test\n",
    "\n",
    "test_input2 = \"\"\"\n",
    "class: 0-1 or 4-19\n",
    "row: 0-5 or 8-19\n",
    "seat: 0-13 or 16-19\n",
    "\n",
    "your ticket:\n",
    "11,12,13\n",
    "\n",
    "nearby tickets:\n",
    "3,9,18\n",
    "15,1,5\n",
    "5,14,9\n",
    "\"\"\"\n",
    "\n",
    "# Based on the nearby tickets in the above example, the first position must be row, the second position must be class,\n",
    "# and the third position must be seat; you can conclude that in your ticket, class is 12, row is 11, and seat is 13.\n",
    "\n",
    "part2(test_input2, \"class\") == 12 and part2(test_input2, \"row\") == 11 and part2(test_input2, \"seat\") == 13"
   ]
  },
  {
   "cell_type": "code",
   "execution_count": 6,
   "metadata": {},
   "outputs": [
    {
     "output_type": "stream",
     "name": "stdout",
     "text": [
      "Wall time: 54 ms\n"
     ]
    },
    {
     "output_type": "execute_result",
     "data": {
      "text/plain": [
       "314360510573"
      ]
     },
     "metadata": {},
     "execution_count": 6
    }
   ],
   "source": [
    "%time part2(my_input, \"departure\")"
   ]
  }
 ]
}
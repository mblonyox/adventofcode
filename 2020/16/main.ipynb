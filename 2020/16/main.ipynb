{
 "metadata": {
  "language_info": {
   "codemirror_mode": {
    "name": "ipython",
    "version": 3
   },
   "file_extension": ".py",
   "mimetype": "text/x-python",
   "name": "python",
   "nbconvert_exporter": "python",
   "pygments_lexer": "ipython3",
   "version": "3.8.1-final"
  },
  "orig_nbformat": 2,
  "kernelspec": {
   "name": "python3",
   "display_name": "Python 3",
   "language": "python"
  }
 },
 "nbformat": 4,
 "nbformat_minor": 2,
 "cells": [
  {
   "cell_type": "code",
   "execution_count": 1,
   "metadata": {},
   "outputs": [],
   "source": [
    "my_input = None\n",
    "with open(\"input.txt\") as file:\n",
    "    my_input = file.read()"
   ]
  },
  {
   "cell_type": "code",
   "execution_count": 2,
   "metadata": {},
   "outputs": [],
   "source": [
    "def parseInput(input_str):\n",
    "    field_rules, your_ticket, nerby_tickets = input_str.strip().split(\"\\n\\n\")\n",
    "    field_rules = [parseFieldRule(field_rule) for field_rule in field_rules.split(\"\\n\")]\n",
    "    your_ticket = tuple(int(n) for n in your_ticket.split(\"\\n\")[1].split(\",\"))\n",
    "    nerby_tickets = [tuple(int(n) for n in ticket.split(\",\")) for ticket in nerby_tickets.split(\"\\n\")[1:]]\n",
    "    return field_rules, your_ticket, nerby_tickets\n",
    "\n",
    "def parseFieldRule(rule_str):\n",
    "    field, ranges = rule_str.split(\": \")\n",
    "    ranges = [tuple(int(n) for n in r.split(\"-\")) for r in ranges.split(\" or \")]\n",
    "    rules = lambda x: any(_min_ <= x <= _max_ for _min_, _max_ in ranges)\n",
    "    return field, rules"
   ]
  },
  {
   "cell_type": "code",
   "execution_count": 3,
   "metadata": {},
   "outputs": [
    {
     "output_type": "execute_result",
     "data": {
      "text/plain": [
       "21081"
      ]
     },
     "metadata": {},
     "execution_count": 3
    }
   ],
   "source": [
    "def part1(input_str):\n",
    "    field_rules, _, nearby_tickets = parseInput(input_str)\n",
    "    invalid_values = []\n",
    "    for ticket in nearby_tickets:\n",
    "        for value in ticket:\n",
    "            if not any(rule(value) for field, rule in field_rules):\n",
    "                invalid_values.append(value)\n",
    "    return sum(invalid_values)\n",
    "\n",
    "part1(my_input)"
   ]
  },
  {
   "cell_type": "code",
   "execution_count": 4,
   "metadata": {},
   "outputs": [
    {
     "output_type": "execute_result",
     "data": {
      "text/plain": [
       "314360510573"
      ]
     },
     "metadata": {},
     "execution_count": 4
    }
   ],
   "source": [
    "import math\n",
    "\n",
    "def part2(input_str):\n",
    "    field_rules, your_ticket, nearby_tickets = parseInput(input_str)\n",
    "    check_valid_ticket = lambda t: all(any(r(v) for _, r in field_rules) for v in t)\n",
    "    valid_tickets = [ticket for ticket in nearby_tickets if check_valid_ticket(ticket)]\n",
    "    field_index = dict()\n",
    "    for field, rule in field_rules:\n",
    "        field_index[field] = []\n",
    "        for i in range(len(field_rules)):\n",
    "            if all(rule(ticket[i]) for ticket in valid_tickets):\n",
    "                field_index[field] += [i]\n",
    "    assigned_index = []\n",
    "    for field, indexes in sorted(field_index.items(), key=lambda item: len(item[1])):\n",
    "        indexes = [index for index in indexes if index not in assigned_index]\n",
    "        assigned_index += indexes\n",
    "        field_index[field] = indexes[0]\n",
    "    return math.prod(your_ticket[index] for field, index in field_index.items() if field.startswith(\"departure\"))\n",
    "\n",
    "part2(my_input)"
   ]
  }
 ]
}
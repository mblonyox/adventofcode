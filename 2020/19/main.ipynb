{
 "metadata": {
  "language_info": {
   "codemirror_mode": {
    "name": "ipython",
    "version": 3
   },
   "file_extension": ".py",
   "mimetype": "text/x-python",
   "name": "python",
   "nbconvert_exporter": "python",
   "pygments_lexer": "ipython3",
   "version": "3.8.1-final"
  },
  "orig_nbformat": 2,
  "kernelspec": {
   "name": "python3",
   "display_name": "Python 3",
   "language": "python"
  }
 },
 "nbformat": 4,
 "nbformat_minor": 2,
 "cells": [
  {
   "source": [
    "# Day 19: Monster Messages\n",
    "---\n",
    "Ampun, _**Regular Expression**_ bikin pusing."
   ],
   "cell_type": "markdown",
   "metadata": {}
  },
  {
   "cell_type": "code",
   "execution_count": 1,
   "metadata": {},
   "outputs": [],
   "source": [
    "my_input = None\n",
    "with open(\"input.txt\") as file:\n",
    "    my_input = file.read()"
   ]
  },
  {
   "cell_type": "code",
   "execution_count": 2,
   "metadata": {},
   "outputs": [],
   "source": [
    "def parse_input(input_str):\n",
    "    rules, messages = input_str.split(\"\\n\\n\")\n",
    "    rules = {k:v for k, v in (line.split(\": \") for line in rules.strip().split(\"\\n\"))}\n",
    "    messages = [line for line in messages.strip().split(\"\\n\")]\n",
    "    return rules, messages"
   ]
  },
  {
   "source": [
    "---\n",
    "## Part 1\n",
    "Bagian pertama kita ubah semua *rule* menjadi satu *pattern string* yang akan kita gunakan untuk _**Regular Expression**_."
   ],
   "cell_type": "markdown",
   "metadata": {}
  },
  {
   "cell_type": "code",
   "execution_count": 3,
   "metadata": {},
   "outputs": [],
   "source": [
    "import re\n",
    "\n",
    "def part1(input_str):\n",
    "    rules, messages = parse_input(input_str)\n",
    "\n",
    "    def get_rules_pattern(rule_id, rules, memo = dict()):\n",
    "        if not rule_id in memo:\n",
    "            rule = rules[rule_id].split(\" \")\n",
    "            rule = \"\".join(map(lambda x: get_rules_pattern(x, rules, memo) if x in rules else x.strip('\"'), rule))\n",
    "            if \"|\" in rule:\n",
    "                rule = \"(?:\"+rule+\")\"\n",
    "            memo[rule_id] = rule\n",
    "        return memo[rule_id]\n",
    "    \n",
    "    pattern = get_rules_pattern(\"0\", rules)\n",
    "    re_patt = re.compile(pattern)\n",
    "    return len([message for message in messages if re_patt.fullmatch(message)])"
   ]
  },
  {
   "cell_type": "code",
   "execution_count": 4,
   "metadata": {},
   "outputs": [
    {
     "output_type": "stream",
     "name": "stdout",
     "text": [
      "Wall time: 16 ms\n"
     ]
    },
    {
     "output_type": "execute_result",
     "data": {
      "text/plain": [
       "291"
      ]
     },
     "metadata": {},
     "execution_count": 4
    }
   ],
   "source": [
    "%time part1(my_input)"
   ]
  },
  {
   "source": [
    "---\n",
    "## Part 2\n",
    "Perubahan aturan *8* cukup menambahkan ```+``` pada akhiran untuk menandakan pola tersebut berulang 1 kali atau lebih.\n",
    "\n",
    "Sedangkan untuk aturan *11* menandakan polanya rekursif di dalam pola itu sendiri. Modul bawaan python tidak mendukung pola rekursif.\n",
    "\n",
    "Alternatifnya kita loop sendiri jumlah perulangannya dengan ```while``` dan cari hingga pola tidak menemukan pesan yang valid lagi."
   ],
   "cell_type": "markdown",
   "metadata": {}
  },
  {
   "cell_type": "code",
   "execution_count": 5,
   "metadata": {},
   "outputs": [],
   "source": [
    "\n",
    "def part2(input_str):\n",
    "    rules, messages = parse_input(input_str)\n",
    "\n",
    "    def get_rules_pattern(rule_id, rules, memo = dict()):\n",
    "        if not rule_id in memo:\n",
    "            rule = rules[rule_id].split(\" \")\n",
    "            rule = \"\".join(map(lambda x: get_rules_pattern(x, rules, memo) if x in rules else x.strip('\"'), rule))\n",
    "            if \"|\" in rule:\n",
    "                rule = \"(?:\"+rule+\")\"\n",
    "            if rule_id == \"8\":\n",
    "                rule = get_rules_pattern(\"42\", rules, memo) + \"+\"\n",
    "            if rule_id == \"11\":\n",
    "                rule = get_rules_pattern(\"42\", rules, memo) + r\"{n}\" + get_rules_pattern(\"31\", rules, memo) + r\"{n}\"\n",
    "            memo[rule_id] = rule\n",
    "        return memo[rule_id]\n",
    "    \n",
    "    pattern = get_rules_pattern(\"0\", rules)\n",
    "    prev_result = None\n",
    "    result = 0\n",
    "    n = 1\n",
    "    while result != prev_result:\n",
    "        prev_result = result\n",
    "        re_patt = re.compile(pattern.replace(\"n\", str(n)))\n",
    "        result += len([message for message in messages if re_patt.fullmatch(message)])\n",
    "        n += 1\n",
    "    return result"
   ]
  },
  {
   "cell_type": "code",
   "execution_count": 6,
   "metadata": {},
   "outputs": [
    {
     "output_type": "stream",
     "name": "stdout",
     "text": [
      "Wall time: 68 ms\n"
     ]
    },
    {
     "output_type": "execute_result",
     "data": {
      "text/plain": [
       "409"
      ]
     },
     "metadata": {},
     "execution_count": 6
    }
   ],
   "source": [
    "%time part2(my_input)"
   ]
  },
  {
   "source": [
    "---\n",
    "# Alternative method using lambdas"
   ],
   "cell_type": "markdown",
   "metadata": {}
  },
  {
   "cell_type": "code",
   "execution_count": 7,
   "metadata": {},
   "outputs": [],
   "source": [
    "def create_lambda_rules(rules):\n",
    "    lambda_rules = dict()\n",
    "    def lambda_generator(rule):\n",
    "        if rule in lambda_rules:\n",
    "            return lambda_rules[rule]\n",
    "        if rule in ('\"a\"', '\"b\"'):\n",
    "            char = rule.strip('\"')\n",
    "            return lambda xs: {type(x) == str and x.startswith(char) and (True if len(x) == 1 else x[1:]) for x in xs if x}\n",
    "        if \"|\" in rule:\n",
    "            sub_rule1, sub_rule2 = rule.split(\" | \")\n",
    "            lambda1 = lambda_generator(sub_rule1)\n",
    "            lambda2 = lambda_generator(sub_rule2)\n",
    "            return lambda xs : lambda1(xs) | lambda2(xs) if bool(xs) else set()\n",
    "        parts = rule.split(\" \")\n",
    "        if len(parts) == 1:\n",
    "            part1 = parts[0] \n",
    "            return lambda xs: lambda_rules[part1](xs)\n",
    "        if len(parts) == 2:\n",
    "            part1, part2 = parts\n",
    "            return lambda xs: lambda_rules[part2](lambda_rules[part1](xs))\n",
    "        if len(parts) == 3:\n",
    "            part1, part2, part3 = parts\n",
    "            return lambda xs: lambda_rules[part3](lambda_rules[part2](lambda_rules[part1](xs)))\n",
    "        return lambda xs: xs\n",
    "\n",
    "    lambda_rules = {k: lambda_generator(v) for (k, v) in rules.items()}\n",
    "    return lambda_rules"
   ]
  },
  {
   "cell_type": "code",
   "execution_count": 8,
   "metadata": {},
   "outputs": [
    {
     "output_type": "stream",
     "name": "stdout",
     "text": [
      "Wall time: 241 ms\n"
     ]
    },
    {
     "output_type": "execute_result",
     "data": {
      "text/plain": [
       "291"
      ]
     },
     "metadata": {},
     "execution_count": 8
    }
   ],
   "source": [
    "def part1_lambdas(input_str):\n",
    "    rules, messages = parse_input(input_str)\n",
    "    lambda_rules = create_lambda_rules(rules)\n",
    "    return sum([True in lambda_rules[\"0\"]({message}) for message in messages])\n",
    "\n",
    "%time part1_lambdas(my_input)"
   ]
  },
  {
   "cell_type": "code",
   "execution_count": 9,
   "metadata": {},
   "outputs": [
    {
     "output_type": "stream",
     "name": "stdout",
     "text": [
      "Wall time: 1.52 s\n"
     ]
    },
    {
     "output_type": "execute_result",
     "data": {
      "text/plain": [
       "409"
      ]
     },
     "metadata": {},
     "execution_count": 9
    }
   ],
   "source": [
    "def part2_lambdas(input_str):\n",
    "    rules, messages = parse_input(input_str)\n",
    "    rules[\"8\"] = \"42 | 42 8\"\n",
    "    rules[\"11\"] = \"42 31 | 42 11 31\"\n",
    "    lambda_rules = create_lambda_rules(rules)\n",
    "    return sum([True in lambda_rules[\"0\"]({message}) for message in messages])\n",
    "\n",
    "%time part2_lambdas(my_input)"
   ]
  }
 ]
}
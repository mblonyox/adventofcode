{
 "metadata": {
  "language_info": {
   "codemirror_mode": {
    "name": "ipython",
    "version": 3
   },
   "file_extension": ".py",
   "mimetype": "text/x-python",
   "name": "python",
   "nbconvert_exporter": "python",
   "pygments_lexer": "ipython3",
   "version": "3.8.1-final"
  },
  "orig_nbformat": 2,
  "kernelspec": {
   "name": "python3",
   "display_name": "Python 3",
   "language": "python"
  }
 },
 "nbformat": 4,
 "nbformat_minor": 2,
 "cells": [
  {
   "source": [
    "# Day 19: Monster Messages\n",
    "---\n",
    "Ampun, _**Regular Expression**_ bikin pusing."
   ],
   "cell_type": "markdown",
   "metadata": {}
  },
  {
   "cell_type": "code",
   "execution_count": 1,
   "metadata": {},
   "outputs": [],
   "source": [
    "my_input = None\n",
    "with open(\"input.txt\") as file:\n",
    "    my_input = file.read()"
   ]
  },
  {
   "cell_type": "code",
   "execution_count": 2,
   "metadata": {},
   "outputs": [],
   "source": [
    "def parse_input(input_str):\n",
    "    rules, messages = input_str.split(\"\\n\\n\")\n",
    "    rules = {k:v for k, v in (line.split(\": \") for line in rules.strip().split(\"\\n\"))}\n",
    "    messages = [line for line in messages.strip().split(\"\\n\")]\n",
    "    return rules, messages"
   ]
  },
  {
   "source": [
    "---\n",
    "## Part 1\n",
    "Bagian pertama kita ubah semua *rule* menjadi satu *pattern string* yang akan kita gunakan untuk _**Regular Expression**_."
   ],
   "cell_type": "markdown",
   "metadata": {}
  },
  {
   "cell_type": "code",
   "execution_count": 3,
   "metadata": {},
   "outputs": [],
   "source": [
    "import re\n",
    "\n",
    "def part1(input_str):\n",
    "    rules, messages = parse_input(input_str)\n",
    "\n",
    "    def get_rules_pattern(rule_id, rules, memo = dict()):\n",
    "        if not rule_id in memo:\n",
    "            rule = rules[rule_id].split(\" \")\n",
    "            rule = \"\".join(map(lambda x: get_rules_pattern(x, rules, memo) if x in rules else x.strip('\"'), rule))\n",
    "            if \"|\" in rule:\n",
    "                rule = \"(?:\"+rule+\")\"\n",
    "            memo[rule_id] = rule\n",
    "        return memo[rule_id]\n",
    "    \n",
    "    pattern = get_rules_pattern(\"0\", rules)\n",
    "    re_patt = re.compile(pattern)\n",
    "    return len([message for message in messages if re_patt.fullmatch(message)])"
   ]
  },
  {
   "cell_type": "code",
   "execution_count": 4,
   "metadata": {},
   "outputs": [
    {
     "output_type": "stream",
     "name": "stdout",
     "text": [
      "Wall time: 15 ms\n"
     ]
    },
    {
     "output_type": "execute_result",
     "data": {
      "text/plain": [
       "291"
      ]
     },
     "metadata": {},
     "execution_count": 4
    }
   ],
   "source": [
    "%time part1(my_input)"
   ]
  },
  {
   "source": [
    "---\n",
    "## Part 2\n",
    "Perubahan aturan *8* cukup menambahkan ```+``` pada akhiran untuk menandakan pola tersebut berulang 1 kali atau lebih.\n",
    "\n",
    "Sedangkan untuk aturan *11* menandakan polanya rekursif di dalam pola itu sendiri. Modul bawaan python tidak mendukung pola rekursif.\n",
    "\n",
    "Alternatifnya kita loop sendiri jumlah perulangannya dengan ```while``` dan cari hingga pola tidak menemukan pesan yang valid lagi."
   ],
   "cell_type": "markdown",
   "metadata": {}
  },
  {
   "cell_type": "code",
   "execution_count": 5,
   "metadata": {},
   "outputs": [],
   "source": [
    "\n",
    "def part2(input_str):\n",
    "    rules, messages = parse_input(input_str)\n",
    "\n",
    "    def get_rules_pattern(rule_id, rules, memo = dict()):\n",
    "        if not rule_id in memo:\n",
    "            rule = rules[rule_id].split(\" \")\n",
    "            rule = \"\".join(map(lambda x: get_rules_pattern(x, rules, memo) if x in rules else x.strip('\"'), rule))\n",
    "            if \"|\" in rule:\n",
    "                rule = \"(?:\"+rule+\")\"\n",
    "            if rule_id == \"8\":\n",
    "                rule = get_rules_pattern(\"42\", rules, memo) + \"+\"\n",
    "            if rule_id == \"11\":\n",
    "                rule = get_rules_pattern(\"42\", rules, memo) + r\"{n}\" + get_rules_pattern(\"31\", rules, memo) + r\"{n}\"\n",
    "            memo[rule_id] = rule\n",
    "        return memo[rule_id]\n",
    "    \n",
    "    pattern = get_rules_pattern(\"0\", rules)\n",
    "    prev_result = None\n",
    "    result = 0\n",
    "    n = 1\n",
    "    while result != prev_result:\n",
    "        prev_result = result\n",
    "        re_patt = re.compile(pattern.replace(\"n\", str(n)))\n",
    "        result += len([message for message in messages if re_patt.fullmatch(message)])\n",
    "        n += 1\n",
    "    return result"
   ]
  },
  {
   "cell_type": "code",
   "execution_count": 6,
   "metadata": {},
   "outputs": [
    {
     "output_type": "stream",
     "name": "stdout",
     "text": [
      "Wall time: 74 ms\n"
     ]
    },
    {
     "output_type": "execute_result",
     "data": {
      "text/plain": [
       "409"
      ]
     },
     "metadata": {},
     "execution_count": 6
    }
   ],
   "source": [
    "%time part2(my_input)"
   ]
  }
 ]
}